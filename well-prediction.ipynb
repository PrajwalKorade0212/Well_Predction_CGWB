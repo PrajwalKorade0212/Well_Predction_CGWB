{
 "cells": [
  {
   "cell_type": "code",
   "execution_count": 1,
   "id": "910ebe6c",
   "metadata": {
    "_cell_guid": "b1076dfc-b9ad-4769-8c92-a6c4dae69d19",
    "_uuid": "8f2839f25d086af736a60e9eeb907d3b93b6e0e5",
    "execution": {
     "iopub.execute_input": "2024-05-27T18:03:55.022784Z",
     "iopub.status.busy": "2024-05-27T18:03:55.022407Z",
     "iopub.status.idle": "2024-05-27T18:04:08.612140Z",
     "shell.execute_reply": "2024-05-27T18:04:08.610840Z"
    },
    "papermill": {
     "duration": 13.604714,
     "end_time": "2024-05-27T18:04:08.614726",
     "exception": false,
     "start_time": "2024-05-27T18:03:55.010012",
     "status": "completed"
    },
    "tags": []
   },
   "outputs": [
    {
     "name": "stderr",
     "output_type": "stream",
     "text": [
      "/opt/conda/lib/python3.10/site-packages/scipy/__init__.py:146: UserWarning: A NumPy version >=1.16.5 and <1.23.0 is required for this version of SciPy (detected version 1.24.3\n",
      "  warnings.warn(f\"A NumPy version >={np_minversion} and <{np_maxversion}\"\n"
     ]
    }
   ],
   "source": [
    "import numpy as np\n",
    "import pandas as pd\n",
    "import pandas as pd\n",
    "import numpy as np\n",
    "from sklearn.preprocessing import StandardScaler\n",
    "from sklearn.impute import SimpleImputer\n",
    "import matplotlib.pyplot as plt\n",
    "import seaborn as sns\n",
    "from sklearn.cluster import KMeans\n",
    "from sklearn.decomposition import PCA\n",
    "import tensorflow as tf\n",
    "from sklearn.model_selection import train_test_split\n",
    "from sklearn.metrics import silhouette_score\n",
    "from sklearn.cluster import KMeans\n",
    "import matplotlib.pyplot as plt "
   ]
  },
  {
   "cell_type": "code",
   "execution_count": 2,
   "id": "210a7abc",
   "metadata": {
    "execution": {
     "iopub.execute_input": "2024-05-27T18:04:08.646225Z",
     "iopub.status.busy": "2024-05-27T18:04:08.645591Z",
     "iopub.status.idle": "2024-05-27T18:04:08.651025Z",
     "shell.execute_reply": "2024-05-27T18:04:08.650085Z"
    },
    "papermill": {
     "duration": 0.024946,
     "end_time": "2024-05-27T18:04:08.653060",
     "exception": false,
     "start_time": "2024-05-27T18:04:08.628114",
     "status": "completed"
    },
    "tags": []
   },
   "outputs": [
    {
     "name": "stdout",
     "output_type": "stream",
     "text": [
      "The scikit-learn version is 1.2.2.\n"
     ]
    }
   ],
   "source": [
    "import sklearn\n",
    "print('The scikit-learn version is {}.'.format(sklearn.__version__))"
   ]
  },
  {
   "cell_type": "code",
   "execution_count": 3,
   "id": "56420ce3",
   "metadata": {
    "execution": {
     "iopub.execute_input": "2024-05-27T18:04:08.676223Z",
     "iopub.status.busy": "2024-05-27T18:04:08.675943Z",
     "iopub.status.idle": "2024-05-27T18:04:08.680001Z",
     "shell.execute_reply": "2024-05-27T18:04:08.679144Z"
    },
    "papermill": {
     "duration": 0.018057,
     "end_time": "2024-05-27T18:04:08.682137",
     "exception": false,
     "start_time": "2024-05-27T18:04:08.664080",
     "status": "completed"
    },
    "tags": []
   },
   "outputs": [],
   "source": [
    "np.random.seed(123)"
   ]
  },
  {
   "cell_type": "code",
   "execution_count": 4,
   "id": "564d5e0c",
   "metadata": {
    "execution": {
     "iopub.execute_input": "2024-05-27T18:04:08.707689Z",
     "iopub.status.busy": "2024-05-27T18:04:08.707082Z",
     "iopub.status.idle": "2024-05-27T18:04:08.858327Z",
     "shell.execute_reply": "2024-05-27T18:04:08.857375Z"
    },
    "papermill": {
     "duration": 0.167822,
     "end_time": "2024-05-27T18:04:08.861104",
     "exception": false,
     "start_time": "2024-05-27T18:04:08.693282",
     "status": "completed"
    },
    "tags": []
   },
   "outputs": [
    {
     "data": {
      "text/html": [
       "<div>\n",
       "<style scoped>\n",
       "    .dataframe tbody tr th:only-of-type {\n",
       "        vertical-align: middle;\n",
       "    }\n",
       "\n",
       "    .dataframe tbody tr th {\n",
       "        vertical-align: top;\n",
       "    }\n",
       "\n",
       "    .dataframe thead th {\n",
       "        text-align: right;\n",
       "    }\n",
       "</style>\n",
       "<table border=\"1\" class=\"dataframe\">\n",
       "  <thead>\n",
       "    <tr style=\"text-align: right;\">\n",
       "      <th></th>\n",
       "      <th>Well ID</th>\n",
       "      <th>S.No</th>\n",
       "      <th>STATE</th>\n",
       "      <th>DISTRICT</th>\n",
       "      <th>BLOCK</th>\n",
       "      <th>LOCATION</th>\n",
       "      <th>LATITUDE</th>\n",
       "      <th>LONGITUDE</th>\n",
       "      <th>Year</th>\n",
       "      <th>pH</th>\n",
       "      <th>...</th>\n",
       "      <th>PO4</th>\n",
       "      <th>TH</th>\n",
       "      <th>Ca</th>\n",
       "      <th>Mg</th>\n",
       "      <th>Na</th>\n",
       "      <th>K</th>\n",
       "      <th>F</th>\n",
       "      <th>SiO2</th>\n",
       "      <th>TDS</th>\n",
       "      <th>U(ppb)</th>\n",
       "    </tr>\n",
       "  </thead>\n",
       "  <tbody>\n",
       "    <tr>\n",
       "      <th>0</th>\n",
       "      <td>W113126092431802</td>\n",
       "      <td>1</td>\n",
       "      <td>A&amp;N Islands</td>\n",
       "      <td>South Andaman</td>\n",
       "      <td>PORT BLAIR</td>\n",
       "      <td>Kodiaghat</td>\n",
       "      <td>11.54500</td>\n",
       "      <td>92.74583</td>\n",
       "      <td>2021</td>\n",
       "      <td>7.74</td>\n",
       "      <td>...</td>\n",
       "      <td>NaN</td>\n",
       "      <td>175.0</td>\n",
       "      <td>34.0</td>\n",
       "      <td>22.0</td>\n",
       "      <td>10.0</td>\n",
       "      <td>0.0</td>\n",
       "      <td>0.84</td>\n",
       "      <td>NaN</td>\n",
       "      <td>206.0</td>\n",
       "      <td>4.8</td>\n",
       "    </tr>\n",
       "    <tr>\n",
       "      <th>1</th>\n",
       "      <td>W113616092411001</td>\n",
       "      <td>2</td>\n",
       "      <td>A&amp;N Islands</td>\n",
       "      <td>South Andaman</td>\n",
       "      <td>PORT BLAIR</td>\n",
       "      <td>Sippighat</td>\n",
       "      <td>11.60250</td>\n",
       "      <td>92.73000</td>\n",
       "      <td>2021</td>\n",
       "      <td>7.53</td>\n",
       "      <td>...</td>\n",
       "      <td>NaN</td>\n",
       "      <td>250.0</td>\n",
       "      <td>52.0</td>\n",
       "      <td>29.0</td>\n",
       "      <td>51.0</td>\n",
       "      <td>1.0</td>\n",
       "      <td>0.28</td>\n",
       "      <td>NaN</td>\n",
       "      <td>381.0</td>\n",
       "      <td>6.4</td>\n",
       "    </tr>\n",
       "    <tr>\n",
       "      <th>2</th>\n",
       "      <td>W113640092443301</td>\n",
       "      <td>3</td>\n",
       "      <td>A&amp;N Islands</td>\n",
       "      <td>South Andaman</td>\n",
       "      <td>PORT BLAIR</td>\n",
       "      <td>Brichganj</td>\n",
       "      <td>11.62083</td>\n",
       "      <td>92.73028</td>\n",
       "      <td>2021</td>\n",
       "      <td>7.50</td>\n",
       "      <td>...</td>\n",
       "      <td>NaN</td>\n",
       "      <td>125.0</td>\n",
       "      <td>4.0</td>\n",
       "      <td>28.0</td>\n",
       "      <td>10.0</td>\n",
       "      <td>1.0</td>\n",
       "      <td>0.46</td>\n",
       "      <td>NaN</td>\n",
       "      <td>151.0</td>\n",
       "      <td>BDL</td>\n",
       "    </tr>\n",
       "    <tr>\n",
       "      <th>3</th>\n",
       "      <td>W114421092422801</td>\n",
       "      <td>4</td>\n",
       "      <td>A&amp;N Islands</td>\n",
       "      <td>South Andaman</td>\n",
       "      <td>FERRARGUNJ</td>\n",
       "      <td>Wimberleyganj</td>\n",
       "      <td>11.73250</td>\n",
       "      <td>92.70861</td>\n",
       "      <td>2021</td>\n",
       "      <td>7.60</td>\n",
       "      <td>...</td>\n",
       "      <td>NaN</td>\n",
       "      <td>135.0</td>\n",
       "      <td>26.0</td>\n",
       "      <td>17.0</td>\n",
       "      <td>15.0</td>\n",
       "      <td>2.0</td>\n",
       "      <td>0.37</td>\n",
       "      <td>NaN</td>\n",
       "      <td>198.0</td>\n",
       "      <td>0.4</td>\n",
       "    </tr>\n",
       "    <tr>\n",
       "      <th>4</th>\n",
       "      <td>W113955092391801</td>\n",
       "      <td>5</td>\n",
       "      <td>A&amp;N Islands</td>\n",
       "      <td>South Andaman</td>\n",
       "      <td>FERRARGUNJ</td>\n",
       "      <td>Ograbraj</td>\n",
       "      <td>11.66361</td>\n",
       "      <td>92.65806</td>\n",
       "      <td>2021</td>\n",
       "      <td>7.82</td>\n",
       "      <td>...</td>\n",
       "      <td>NaN</td>\n",
       "      <td>465.0</td>\n",
       "      <td>56.0</td>\n",
       "      <td>79.0</td>\n",
       "      <td>336.0</td>\n",
       "      <td>18.0</td>\n",
       "      <td>0.95</td>\n",
       "      <td>NaN</td>\n",
       "      <td>1424.0</td>\n",
       "      <td>BDL</td>\n",
       "    </tr>\n",
       "    <tr>\n",
       "      <th>...</th>\n",
       "      <td>...</td>\n",
       "      <td>...</td>\n",
       "      <td>...</td>\n",
       "      <td>...</td>\n",
       "      <td>...</td>\n",
       "      <td>...</td>\n",
       "      <td>...</td>\n",
       "      <td>...</td>\n",
       "      <td>...</td>\n",
       "      <td>...</td>\n",
       "      <td>...</td>\n",
       "      <td>...</td>\n",
       "      <td>...</td>\n",
       "      <td>...</td>\n",
       "      <td>...</td>\n",
       "      <td>...</td>\n",
       "      <td>...</td>\n",
       "      <td>...</td>\n",
       "      <td>...</td>\n",
       "      <td>...</td>\n",
       "      <td>...</td>\n",
       "    </tr>\n",
       "    <tr>\n",
       "      <th>9054</th>\n",
       "      <td>NaN</td>\n",
       "      <td>9055</td>\n",
       "      <td>West Bengal</td>\n",
       "      <td>South 24 Parganas</td>\n",
       "      <td>Sagar</td>\n",
       "      <td>Digambari (rudranagar)</td>\n",
       "      <td>21.70080</td>\n",
       "      <td>88.11250</td>\n",
       "      <td>2021</td>\n",
       "      <td>8.53</td>\n",
       "      <td>...</td>\n",
       "      <td>NaN</td>\n",
       "      <td>235.0</td>\n",
       "      <td>26.0</td>\n",
       "      <td>41.0</td>\n",
       "      <td>122.0</td>\n",
       "      <td>4.2</td>\n",
       "      <td>0</td>\n",
       "      <td>NaN</td>\n",
       "      <td>521.0</td>\n",
       "      <td>9.28</td>\n",
       "    </tr>\n",
       "    <tr>\n",
       "      <th>9055</th>\n",
       "      <td>NaN</td>\n",
       "      <td>9056</td>\n",
       "      <td>West Bengal</td>\n",
       "      <td>South 24 Parganas</td>\n",
       "      <td>Sagar</td>\n",
       "      <td>Ganga Sagar</td>\n",
       "      <td>22.55580</td>\n",
       "      <td>88.59690</td>\n",
       "      <td>2021</td>\n",
       "      <td>8.48</td>\n",
       "      <td>...</td>\n",
       "      <td>NaN</td>\n",
       "      <td>175.0</td>\n",
       "      <td>24.0</td>\n",
       "      <td>28.0</td>\n",
       "      <td>120.0</td>\n",
       "      <td>3.8</td>\n",
       "      <td>0</td>\n",
       "      <td>NaN</td>\n",
       "      <td>460.0</td>\n",
       "      <td>0.49</td>\n",
       "    </tr>\n",
       "    <tr>\n",
       "      <th>9056</th>\n",
       "      <td>NaN</td>\n",
       "      <td>9057</td>\n",
       "      <td>West Bengal</td>\n",
       "      <td>South 24 Parganas</td>\n",
       "      <td>Sagar</td>\n",
       "      <td>Kochuberia rc jetty ghat</td>\n",
       "      <td>21.85440</td>\n",
       "      <td>88.29780</td>\n",
       "      <td>2021</td>\n",
       "      <td>8.48</td>\n",
       "      <td>...</td>\n",
       "      <td>NaN</td>\n",
       "      <td>170.0</td>\n",
       "      <td>14.0</td>\n",
       "      <td>33.0</td>\n",
       "      <td>135.0</td>\n",
       "      <td>4.6</td>\n",
       "      <td>0</td>\n",
       "      <td>NaN</td>\n",
       "      <td>496.0</td>\n",
       "      <td>0.02</td>\n",
       "    </tr>\n",
       "    <tr>\n",
       "      <th>9057</th>\n",
       "      <td>NaN</td>\n",
       "      <td>9058</td>\n",
       "      <td>West Bengal</td>\n",
       "      <td>South 24 Parganas</td>\n",
       "      <td>Sonarpur</td>\n",
       "      <td>Langalberia</td>\n",
       "      <td>22.38560</td>\n",
       "      <td>88.40500</td>\n",
       "      <td>2021</td>\n",
       "      <td>8.71</td>\n",
       "      <td>...</td>\n",
       "      <td>NaN</td>\n",
       "      <td>285.0</td>\n",
       "      <td>56.0</td>\n",
       "      <td>35.0</td>\n",
       "      <td>32.0</td>\n",
       "      <td>5.2</td>\n",
       "      <td>0.12</td>\n",
       "      <td>NaN</td>\n",
       "      <td>378.0</td>\n",
       "      <td>0.20</td>\n",
       "    </tr>\n",
       "    <tr>\n",
       "      <th>9058</th>\n",
       "      <td>NaN</td>\n",
       "      <td>9059</td>\n",
       "      <td>West Bengal</td>\n",
       "      <td>South 24 Parganas</td>\n",
       "      <td>Sonarpur</td>\n",
       "      <td>Srirampur Tw</td>\n",
       "      <td>22.39310</td>\n",
       "      <td>88.41890</td>\n",
       "      <td>2021</td>\n",
       "      <td>8.74</td>\n",
       "      <td>...</td>\n",
       "      <td>NaN</td>\n",
       "      <td>265.0</td>\n",
       "      <td>30.0</td>\n",
       "      <td>46.0</td>\n",
       "      <td>132.0</td>\n",
       "      <td>5.4</td>\n",
       "      <td>0.14</td>\n",
       "      <td>NaN</td>\n",
       "      <td>572.0</td>\n",
       "      <td>0.10</td>\n",
       "    </tr>\n",
       "  </tbody>\n",
       "</table>\n",
       "<p>9059 rows × 26 columns</p>\n",
       "</div>"
      ],
      "text/plain": [
       "               Well ID  S.No        STATE           DISTRICT       BLOCK  \\\n",
       "0     W113126092431802     1  A&N Islands      South Andaman  PORT BLAIR   \n",
       "1     W113616092411001     2  A&N Islands      South Andaman  PORT BLAIR   \n",
       "2     W113640092443301     3  A&N Islands      South Andaman  PORT BLAIR   \n",
       "3     W114421092422801     4  A&N Islands      South Andaman  FERRARGUNJ   \n",
       "4     W113955092391801     5  A&N Islands      South Andaman  FERRARGUNJ   \n",
       "...                ...   ...          ...                ...         ...   \n",
       "9054               NaN  9055  West Bengal  South 24 Parganas       Sagar   \n",
       "9055               NaN  9056  West Bengal  South 24 Parganas       Sagar   \n",
       "9056               NaN  9057  West Bengal  South 24 Parganas       Sagar   \n",
       "9057               NaN  9058  West Bengal  South 24 Parganas    Sonarpur   \n",
       "9058               NaN  9059  West Bengal  South 24 Parganas    Sonarpur   \n",
       "\n",
       "                      LOCATION  LATITUDE LONGITUDE  Year    pH  ...  PO4  \\\n",
       "0                    Kodiaghat  11.54500  92.74583  2021  7.74  ...  NaN   \n",
       "1                    Sippighat  11.60250  92.73000  2021  7.53  ...  NaN   \n",
       "2                    Brichganj  11.62083  92.73028  2021  7.50  ...  NaN   \n",
       "3                Wimberleyganj  11.73250  92.70861  2021  7.60  ...  NaN   \n",
       "4                     Ograbraj  11.66361  92.65806  2021  7.82  ...  NaN   \n",
       "...                        ...       ...       ...   ...   ...  ...  ...   \n",
       "9054    Digambari (rudranagar)  21.70080  88.11250  2021  8.53  ...  NaN   \n",
       "9055               Ganga Sagar  22.55580  88.59690  2021  8.48  ...  NaN   \n",
       "9056  Kochuberia rc jetty ghat  21.85440  88.29780  2021  8.48  ...  NaN   \n",
       "9057               Langalberia  22.38560  88.40500  2021  8.71  ...  NaN   \n",
       "9058              Srirampur Tw  22.39310  88.41890  2021  8.74  ...  NaN   \n",
       "\n",
       "         TH    Ca    Mg     Na     K     F  SiO2     TDS  U(ppb)  \n",
       "0     175.0  34.0  22.0   10.0   0.0  0.84   NaN   206.0     4.8  \n",
       "1     250.0  52.0  29.0   51.0   1.0  0.28   NaN   381.0     6.4  \n",
       "2     125.0   4.0  28.0   10.0   1.0  0.46   NaN   151.0     BDL  \n",
       "3     135.0  26.0  17.0   15.0   2.0  0.37   NaN   198.0     0.4  \n",
       "4     465.0  56.0  79.0  336.0  18.0  0.95   NaN  1424.0     BDL  \n",
       "...     ...   ...   ...    ...   ...   ...   ...     ...     ...  \n",
       "9054  235.0  26.0  41.0  122.0   4.2     0   NaN   521.0    9.28  \n",
       "9055  175.0  24.0  28.0  120.0   3.8     0   NaN   460.0    0.49  \n",
       "9056  170.0  14.0  33.0  135.0   4.6     0   NaN   496.0    0.02  \n",
       "9057  285.0  56.0  35.0   32.0   5.2  0.12   NaN   378.0    0.20  \n",
       "9058  265.0  30.0  46.0  132.0   5.4  0.14   NaN   572.0    0.10  \n",
       "\n",
       "[9059 rows x 26 columns]"
      ]
     },
     "execution_count": 4,
     "metadata": {},
     "output_type": "execute_result"
    }
   ],
   "source": [
    "df = pd.read_csv('/kaggle/input/well-predictor/CGWB.csv')\n",
    "df"
   ]
  },
  {
   "cell_type": "code",
   "execution_count": 5,
   "id": "e4d9c39c",
   "metadata": {
    "execution": {
     "iopub.execute_input": "2024-05-27T18:04:08.898719Z",
     "iopub.status.busy": "2024-05-27T18:04:08.898359Z",
     "iopub.status.idle": "2024-05-27T18:04:08.904903Z",
     "shell.execute_reply": "2024-05-27T18:04:08.904109Z"
    },
    "papermill": {
     "duration": 0.021522,
     "end_time": "2024-05-27T18:04:08.906951",
     "exception": false,
     "start_time": "2024-05-27T18:04:08.885429",
     "status": "completed"
    },
    "tags": []
   },
   "outputs": [
    {
     "data": {
      "text/plain": [
       "Index(['Well ID', 'S.No', 'STATE', 'DISTRICT', 'BLOCK', 'LOCATION', 'LATITUDE',\n",
       "       'LONGITUDE', 'Year', 'pH', 'EC', 'CO3', 'HCO3', 'Cl', 'SO4', 'NO3',\n",
       "       'PO4', 'TH', 'Ca', 'Mg', 'Na', 'K', 'F', 'SiO2', 'TDS', 'U(ppb)'],\n",
       "      dtype='object')"
      ]
     },
     "execution_count": 5,
     "metadata": {},
     "output_type": "execute_result"
    }
   ],
   "source": [
    "df.columns"
   ]
  },
  {
   "cell_type": "markdown",
   "id": "1668cc27",
   "metadata": {
    "papermill": {
     "duration": 0.011239,
     "end_time": "2024-05-27T18:04:08.929659",
     "exception": false,
     "start_time": "2024-05-27T18:04:08.918420",
     "status": "completed"
    },
    "tags": []
   },
   "source": [
    "# **Pre-processing**"
   ]
  },
  {
   "cell_type": "code",
   "execution_count": 6,
   "id": "7ef8d3d7",
   "metadata": {
    "execution": {
     "iopub.execute_input": "2024-05-27T18:04:08.954002Z",
     "iopub.status.busy": "2024-05-27T18:04:08.953739Z",
     "iopub.status.idle": "2024-05-27T18:04:08.972399Z",
     "shell.execute_reply": "2024-05-27T18:04:08.971575Z"
    },
    "papermill": {
     "duration": 0.032999,
     "end_time": "2024-05-27T18:04:08.974366",
     "exception": false,
     "start_time": "2024-05-27T18:04:08.941367",
     "status": "completed"
    },
    "tags": []
   },
   "outputs": [
    {
     "data": {
      "text/plain": [
       "Well ID      3270\n",
       "S.No            0\n",
       "STATE           0\n",
       "DISTRICT        0\n",
       "BLOCK         194\n",
       "LOCATION        1\n",
       "LATITUDE       14\n",
       "LONGITUDE      14\n",
       "Year            0\n",
       "pH              0\n",
       "EC              0\n",
       "CO3             0\n",
       "HCO3            0\n",
       "Cl              0\n",
       "SO4             2\n",
       "NO3             0\n",
       "PO4          3150\n",
       "TH              0\n",
       "Ca              1\n",
       "Mg              0\n",
       "Na              0\n",
       "K               1\n",
       "F               0\n",
       "SiO2         4135\n",
       "TDS          4524\n",
       "U(ppb)       6120\n",
       "dtype: int64"
      ]
     },
     "execution_count": 6,
     "metadata": {},
     "output_type": "execute_result"
    }
   ],
   "source": [
    "df.isnull().sum()"
   ]
  },
  {
   "cell_type": "code",
   "execution_count": 7,
   "id": "8caee905",
   "metadata": {
    "execution": {
     "iopub.execute_input": "2024-05-27T18:04:08.998744Z",
     "iopub.status.busy": "2024-05-27T18:04:08.998453Z",
     "iopub.status.idle": "2024-05-27T18:04:09.032851Z",
     "shell.execute_reply": "2024-05-27T18:04:09.032174Z"
    },
    "papermill": {
     "duration": 0.048647,
     "end_time": "2024-05-27T18:04:09.034656",
     "exception": false,
     "start_time": "2024-05-27T18:04:08.986009",
     "status": "completed"
    },
    "tags": []
   },
   "outputs": [],
   "source": [
    "df = df.drop(['Well ID','S.No','Year'],axis = 1)\n",
    "\n",
    "unique_categories = df['BLOCK'].unique()\n",
    "mapping_dict = {category: index + 1 for index, category in enumerate(unique_categories)}\n",
    "# Map the values in the 'Category' column to numbers using the dynamic mapping dictionary\n",
    "df['BLOCK'] = df['BLOCK'].map(mapping_dict)\n",
    "\n",
    "\n",
    "unique_categories = df['LOCATION'].unique()\n",
    "mapping_dict = {category: index + 1 for index, category in enumerate(unique_categories)}\n",
    "# Map the values in the 'Category' column to numbers using the dynamic mapping dictionary\n",
    "df['LOCATION'] = df['LOCATION'].map(mapping_dict)\n",
    "\n",
    "\n",
    "unique_categories = df['DISTRICT'].unique()\n",
    "mapping_dict = {category: index + 1 for index, category in enumerate(unique_categories)}\n",
    "# Map the values in the 'Category' column to numbers using the dynamic mapping dictionary\n",
    "df['DISTRICT'] = df['DISTRICT'].map(mapping_dict)\n",
    "\n",
    "\n",
    "unique_categories = df['STATE'].unique()\n",
    "mapping_dict = {category: index + 1 for index, category in enumerate(unique_categories)}\n",
    "# Map the values in the 'Category' column to numbers using the dynamic mapping dictionary\n",
    "df['STATE'] = df['STATE'].map(mapping_dict)"
   ]
  },
  {
   "cell_type": "code",
   "execution_count": 8,
   "id": "dc4497fb",
   "metadata": {
    "execution": {
     "iopub.execute_input": "2024-05-27T18:04:09.059199Z",
     "iopub.status.busy": "2024-05-27T18:04:09.058936Z",
     "iopub.status.idle": "2024-05-27T18:04:09.111135Z",
     "shell.execute_reply": "2024-05-27T18:04:09.110454Z"
    },
    "papermill": {
     "duration": 0.066624,
     "end_time": "2024-05-27T18:04:09.112934",
     "exception": false,
     "start_time": "2024-05-27T18:04:09.046310",
     "status": "completed"
    },
    "tags": []
   },
   "outputs": [],
   "source": [
    "df['LATITUDE'] = pd.to_numeric(df['LATITUDE'], errors='coerce')\n",
    "df['LONGITUDE'] = pd.to_numeric(df['LONGITUDE'], errors='coerce')\n",
    "df['SO4'] = pd.to_numeric(df['SO4'], errors='coerce')\n",
    "df['PO4'] = pd.to_numeric(df['PO4'], errors='coerce')\n",
    "df['Ca'] = pd.to_numeric(df['Ca'], errors='coerce')\n",
    "df['K'] = pd.to_numeric(df['K'], errors='coerce')\n",
    "df['SiO2'] = pd.to_numeric(df['SiO2'], errors='coerce')\n",
    "df['TDS'] = pd.to_numeric(df['TDS'], errors='coerce')\n",
    "df['U(ppb)'] = pd.to_numeric(df['U(ppb)'], errors='coerce')\n",
    "df['BLOCK'] = pd.to_numeric(df['BLOCK'], errors='coerce')\n",
    "\n",
    "df['BLOCK'].fillna(df['BLOCK'].mean(), inplace=True)\n",
    "df['SO4'].fillna(df['SO4'].mean(), inplace=True)\n",
    "df['PO4'].fillna(df['PO4'].mean(), inplace=True)\n",
    "df['LATITUDE'].fillna(df['LATITUDE'].mean(), inplace=True)\n",
    "df['LONGITUDE'].fillna(df['LONGITUDE'].mean(), inplace=True)\n",
    "df['LONGITUDE'].fillna(df['LONGITUDE'].mean(), inplace=True)\n",
    "df['Ca'].fillna(df['Ca'].mean(), inplace=True)\n",
    "df['K'].fillna(df['K'].mean(), inplace=True)\n",
    "df['SiO2'].fillna(df['SiO2'].mean(), inplace=True)\n",
    "df['TDS'].fillna(df['TDS'].mean(), inplace=True)\n",
    "df['U(ppb)'].fillna(df['U(ppb)'].mean(), inplace=True)"
   ]
  },
  {
   "cell_type": "code",
   "execution_count": 9,
   "id": "811c54fd",
   "metadata": {
    "execution": {
     "iopub.execute_input": "2024-05-27T18:04:09.137801Z",
     "iopub.status.busy": "2024-05-27T18:04:09.137519Z",
     "iopub.status.idle": "2024-05-27T18:04:09.148962Z",
     "shell.execute_reply": "2024-05-27T18:04:09.148184Z"
    },
    "papermill": {
     "duration": 0.026323,
     "end_time": "2024-05-27T18:04:09.150852",
     "exception": false,
     "start_time": "2024-05-27T18:04:09.124529",
     "status": "completed"
    },
    "tags": []
   },
   "outputs": [
    {
     "data": {
      "text/plain": [
       "STATE        0\n",
       "DISTRICT     0\n",
       "BLOCK        0\n",
       "LOCATION     0\n",
       "LATITUDE     0\n",
       "LONGITUDE    0\n",
       "pH           0\n",
       "EC           0\n",
       "CO3          0\n",
       "HCO3         0\n",
       "Cl           0\n",
       "SO4          0\n",
       "NO3          0\n",
       "PO4          0\n",
       "TH           0\n",
       "Ca           0\n",
       "Mg           0\n",
       "Na           0\n",
       "K            0\n",
       "F            0\n",
       "SiO2         0\n",
       "TDS          0\n",
       "U(ppb)       0\n",
       "dtype: int64"
      ]
     },
     "execution_count": 9,
     "metadata": {},
     "output_type": "execute_result"
    }
   ],
   "source": [
    "df.isnull().sum()"
   ]
  },
  {
   "cell_type": "code",
   "execution_count": 10,
   "id": "63dad9e0",
   "metadata": {
    "execution": {
     "iopub.execute_input": "2024-05-27T18:04:09.175959Z",
     "iopub.status.busy": "2024-05-27T18:04:09.175692Z",
     "iopub.status.idle": "2024-05-27T18:04:09.182300Z",
     "shell.execute_reply": "2024-05-27T18:04:09.181553Z"
    },
    "papermill": {
     "duration": 0.021663,
     "end_time": "2024-05-27T18:04:09.184214",
     "exception": false,
     "start_time": "2024-05-27T18:04:09.162551",
     "status": "completed"
    },
    "tags": []
   },
   "outputs": [
    {
     "data": {
      "text/plain": [
       "STATE          int64\n",
       "DISTRICT       int64\n",
       "BLOCK          int64\n",
       "LOCATION       int64\n",
       "LATITUDE     float64\n",
       "LONGITUDE    float64\n",
       "pH            object\n",
       "EC           float64\n",
       "CO3           object\n",
       "HCO3         float64\n",
       "Cl           float64\n",
       "SO4          float64\n",
       "NO3           object\n",
       "PO4          float64\n",
       "TH           float64\n",
       "Ca           float64\n",
       "Mg           float64\n",
       "Na           float64\n",
       "K            float64\n",
       "F             object\n",
       "SiO2         float64\n",
       "TDS          float64\n",
       "U(ppb)       float64\n",
       "dtype: object"
      ]
     },
     "execution_count": 10,
     "metadata": {},
     "output_type": "execute_result"
    }
   ],
   "source": [
    "df.dtypes"
   ]
  },
  {
   "cell_type": "code",
   "execution_count": 11,
   "id": "f39ea7a4",
   "metadata": {
    "execution": {
     "iopub.execute_input": "2024-05-27T18:04:09.210049Z",
     "iopub.status.busy": "2024-05-27T18:04:09.209768Z",
     "iopub.status.idle": "2024-05-27T18:04:09.247355Z",
     "shell.execute_reply": "2024-05-27T18:04:09.246717Z"
    },
    "papermill": {
     "duration": 0.05287,
     "end_time": "2024-05-27T18:04:09.249264",
     "exception": false,
     "start_time": "2024-05-27T18:04:09.196394",
     "status": "completed"
    },
    "tags": []
   },
   "outputs": [],
   "source": [
    "df['pH'] = df['pH'].replace(['leaked'], 0)\n",
    "df['pH'] = pd.to_numeric(df['pH'])\n",
    "\n",
    "\n",
    "df['CO3'] = pd.to_numeric(df['CO3'], errors='coerce')  # Convert to numeric, coerce errors to NaN\n",
    "mean_value = df['CO3'].mean()\n",
    "# Replace 'Nil' with the calculated mean\n",
    "df['CO3'].replace('Nil', mean_value, inplace=True)\n",
    "df['CO3'] = pd.to_numeric(df['CO3'])\n",
    "\n",
    "\n",
    "df['NO3'] = pd.to_numeric(df['NO3'], errors='coerce')  # Convert to numeric, coerce errors to NaN\n",
    "mean_value = df['NO3'].mean()\n",
    "df['NO3'].replace('nil', mean_value, inplace=True)\n",
    "df['NO3'] = pd.to_numeric(df['NO3'])\n",
    "\n",
    "\n",
    "df['F'] = pd.to_numeric(df['F'], errors='coerce')  # Convert to numeric, coerce errors to NaN\n",
    "mean_value = df['F'].mean()\n",
    "df['F'].replace('nil', mean_value, inplace=True)\n",
    "df['F'] = pd.to_numeric(df['F'])"
   ]
  },
  {
   "cell_type": "code",
   "execution_count": 12,
   "id": "581aaca0",
   "metadata": {
    "execution": {
     "iopub.execute_input": "2024-05-27T18:04:09.274391Z",
     "iopub.status.busy": "2024-05-27T18:04:09.273786Z",
     "iopub.status.idle": "2024-05-27T18:04:09.280347Z",
     "shell.execute_reply": "2024-05-27T18:04:09.279529Z"
    },
    "papermill": {
     "duration": 0.021216,
     "end_time": "2024-05-27T18:04:09.282257",
     "exception": false,
     "start_time": "2024-05-27T18:04:09.261041",
     "status": "completed"
    },
    "tags": []
   },
   "outputs": [
    {
     "data": {
      "text/plain": [
       "STATE          int64\n",
       "DISTRICT       int64\n",
       "BLOCK          int64\n",
       "LOCATION       int64\n",
       "LATITUDE     float64\n",
       "LONGITUDE    float64\n",
       "pH           float64\n",
       "EC           float64\n",
       "CO3          float64\n",
       "HCO3         float64\n",
       "Cl           float64\n",
       "SO4          float64\n",
       "NO3          float64\n",
       "PO4          float64\n",
       "TH           float64\n",
       "Ca           float64\n",
       "Mg           float64\n",
       "Na           float64\n",
       "K            float64\n",
       "F            float64\n",
       "SiO2         float64\n",
       "TDS          float64\n",
       "U(ppb)       float64\n",
       "dtype: object"
      ]
     },
     "execution_count": 12,
     "metadata": {},
     "output_type": "execute_result"
    }
   ],
   "source": [
    "df.dtypes"
   ]
  },
  {
   "cell_type": "code",
   "execution_count": 13,
   "id": "62edff5c",
   "metadata": {
    "execution": {
     "iopub.execute_input": "2024-05-27T18:04:09.311477Z",
     "iopub.status.busy": "2024-05-27T18:04:09.311200Z",
     "iopub.status.idle": "2024-05-27T18:04:09.321702Z",
     "shell.execute_reply": "2024-05-27T18:04:09.320498Z"
    },
    "papermill": {
     "duration": 0.028899,
     "end_time": "2024-05-27T18:04:09.323782",
     "exception": false,
     "start_time": "2024-05-27T18:04:09.294883",
     "status": "completed"
    },
    "tags": []
   },
   "outputs": [],
   "source": [
    "df = df.dropna(subset=df.columns[df.isna().any()])\n",
    "df = df.astype(float)"
   ]
  },
  {
   "cell_type": "code",
   "execution_count": 14,
   "id": "28f96720",
   "metadata": {
    "execution": {
     "iopub.execute_input": "2024-05-27T18:04:09.404601Z",
     "iopub.status.busy": "2024-05-27T18:04:09.403906Z",
     "iopub.status.idle": "2024-05-27T18:04:09.412652Z",
     "shell.execute_reply": "2024-05-27T18:04:09.411744Z"
    },
    "papermill": {
     "duration": 0.025849,
     "end_time": "2024-05-27T18:04:09.414598",
     "exception": false,
     "start_time": "2024-05-27T18:04:09.388749",
     "status": "completed"
    },
    "tags": []
   },
   "outputs": [
    {
     "data": {
      "text/plain": [
       "STATE        float64\n",
       "DISTRICT     float64\n",
       "BLOCK        float64\n",
       "LOCATION     float64\n",
       "LATITUDE     float64\n",
       "LONGITUDE    float64\n",
       "pH           float64\n",
       "EC           float64\n",
       "CO3          float64\n",
       "HCO3         float64\n",
       "Cl           float64\n",
       "SO4          float64\n",
       "NO3          float64\n",
       "PO4          float64\n",
       "TH           float64\n",
       "Ca           float64\n",
       "Mg           float64\n",
       "Na           float64\n",
       "K            float64\n",
       "F            float64\n",
       "SiO2         float64\n",
       "TDS          float64\n",
       "U(ppb)       float64\n",
       "dtype: object"
      ]
     },
     "execution_count": 14,
     "metadata": {},
     "output_type": "execute_result"
    }
   ],
   "source": [
    "df.dtypes"
   ]
  },
  {
   "cell_type": "code",
   "execution_count": 15,
   "id": "1f7db551",
   "metadata": {
    "execution": {
     "iopub.execute_input": "2024-05-27T18:04:09.442403Z",
     "iopub.status.busy": "2024-05-27T18:04:09.441471Z",
     "iopub.status.idle": "2024-05-27T18:04:09.484360Z",
     "shell.execute_reply": "2024-05-27T18:04:09.483405Z"
    },
    "papermill": {
     "duration": 0.058978,
     "end_time": "2024-05-27T18:04:09.486565",
     "exception": false,
     "start_time": "2024-05-27T18:04:09.427587",
     "status": "completed"
    },
    "tags": []
   },
   "outputs": [
    {
     "data": {
      "text/html": [
       "<div>\n",
       "<style scoped>\n",
       "    .dataframe tbody tr th:only-of-type {\n",
       "        vertical-align: middle;\n",
       "    }\n",
       "\n",
       "    .dataframe tbody tr th {\n",
       "        vertical-align: top;\n",
       "    }\n",
       "\n",
       "    .dataframe thead th {\n",
       "        text-align: right;\n",
       "    }\n",
       "</style>\n",
       "<table border=\"1\" class=\"dataframe\">\n",
       "  <thead>\n",
       "    <tr style=\"text-align: right;\">\n",
       "      <th></th>\n",
       "      <th>STATE</th>\n",
       "      <th>DISTRICT</th>\n",
       "      <th>BLOCK</th>\n",
       "      <th>LOCATION</th>\n",
       "      <th>LATITUDE</th>\n",
       "      <th>LONGITUDE</th>\n",
       "      <th>pH</th>\n",
       "      <th>EC</th>\n",
       "      <th>CO3</th>\n",
       "      <th>HCO3</th>\n",
       "      <th>...</th>\n",
       "      <th>PO4</th>\n",
       "      <th>TH</th>\n",
       "      <th>Ca</th>\n",
       "      <th>Mg</th>\n",
       "      <th>Na</th>\n",
       "      <th>K</th>\n",
       "      <th>F</th>\n",
       "      <th>SiO2</th>\n",
       "      <th>TDS</th>\n",
       "      <th>U(ppb)</th>\n",
       "    </tr>\n",
       "  </thead>\n",
       "  <tbody>\n",
       "    <tr>\n",
       "      <th>0</th>\n",
       "      <td>1.0</td>\n",
       "      <td>1.0</td>\n",
       "      <td>1.0</td>\n",
       "      <td>1.0</td>\n",
       "      <td>11.54500</td>\n",
       "      <td>92.74583</td>\n",
       "      <td>7.74</td>\n",
       "      <td>349.0</td>\n",
       "      <td>0.0</td>\n",
       "      <td>183.0</td>\n",
       "      <td>...</td>\n",
       "      <td>0.067829</td>\n",
       "      <td>175.0</td>\n",
       "      <td>34.0</td>\n",
       "      <td>22.0</td>\n",
       "      <td>10.0</td>\n",
       "      <td>0.0</td>\n",
       "      <td>0.84</td>\n",
       "      <td>25.12151</td>\n",
       "      <td>206.0</td>\n",
       "      <td>4.800</td>\n",
       "    </tr>\n",
       "    <tr>\n",
       "      <th>1</th>\n",
       "      <td>1.0</td>\n",
       "      <td>1.0</td>\n",
       "      <td>1.0</td>\n",
       "      <td>2.0</td>\n",
       "      <td>11.60250</td>\n",
       "      <td>92.73000</td>\n",
       "      <td>7.53</td>\n",
       "      <td>660.0</td>\n",
       "      <td>0.0</td>\n",
       "      <td>262.0</td>\n",
       "      <td>...</td>\n",
       "      <td>0.067829</td>\n",
       "      <td>250.0</td>\n",
       "      <td>52.0</td>\n",
       "      <td>29.0</td>\n",
       "      <td>51.0</td>\n",
       "      <td>1.0</td>\n",
       "      <td>0.28</td>\n",
       "      <td>25.12151</td>\n",
       "      <td>381.0</td>\n",
       "      <td>6.400</td>\n",
       "    </tr>\n",
       "    <tr>\n",
       "      <th>2</th>\n",
       "      <td>1.0</td>\n",
       "      <td>1.0</td>\n",
       "      <td>1.0</td>\n",
       "      <td>3.0</td>\n",
       "      <td>11.62083</td>\n",
       "      <td>92.73028</td>\n",
       "      <td>7.50</td>\n",
       "      <td>270.0</td>\n",
       "      <td>0.0</td>\n",
       "      <td>116.0</td>\n",
       "      <td>...</td>\n",
       "      <td>0.067829</td>\n",
       "      <td>125.0</td>\n",
       "      <td>4.0</td>\n",
       "      <td>28.0</td>\n",
       "      <td>10.0</td>\n",
       "      <td>1.0</td>\n",
       "      <td>0.46</td>\n",
       "      <td>25.12151</td>\n",
       "      <td>151.0</td>\n",
       "      <td>2.387</td>\n",
       "    </tr>\n",
       "    <tr>\n",
       "      <th>3</th>\n",
       "      <td>1.0</td>\n",
       "      <td>1.0</td>\n",
       "      <td>2.0</td>\n",
       "      <td>4.0</td>\n",
       "      <td>11.73250</td>\n",
       "      <td>92.70861</td>\n",
       "      <td>7.60</td>\n",
       "      <td>311.0</td>\n",
       "      <td>0.0</td>\n",
       "      <td>159.0</td>\n",
       "      <td>...</td>\n",
       "      <td>0.067829</td>\n",
       "      <td>135.0</td>\n",
       "      <td>26.0</td>\n",
       "      <td>17.0</td>\n",
       "      <td>15.0</td>\n",
       "      <td>2.0</td>\n",
       "      <td>0.37</td>\n",
       "      <td>25.12151</td>\n",
       "      <td>198.0</td>\n",
       "      <td>0.400</td>\n",
       "    </tr>\n",
       "    <tr>\n",
       "      <th>4</th>\n",
       "      <td>1.0</td>\n",
       "      <td>1.0</td>\n",
       "      <td>2.0</td>\n",
       "      <td>5.0</td>\n",
       "      <td>11.66361</td>\n",
       "      <td>92.65806</td>\n",
       "      <td>7.82</td>\n",
       "      <td>2501.0</td>\n",
       "      <td>0.0</td>\n",
       "      <td>512.0</td>\n",
       "      <td>...</td>\n",
       "      <td>0.067829</td>\n",
       "      <td>465.0</td>\n",
       "      <td>56.0</td>\n",
       "      <td>79.0</td>\n",
       "      <td>336.0</td>\n",
       "      <td>18.0</td>\n",
       "      <td>0.95</td>\n",
       "      <td>25.12151</td>\n",
       "      <td>1424.0</td>\n",
       "      <td>2.387</td>\n",
       "    </tr>\n",
       "    <tr>\n",
       "      <th>...</th>\n",
       "      <td>...</td>\n",
       "      <td>...</td>\n",
       "      <td>...</td>\n",
       "      <td>...</td>\n",
       "      <td>...</td>\n",
       "      <td>...</td>\n",
       "      <td>...</td>\n",
       "      <td>...</td>\n",
       "      <td>...</td>\n",
       "      <td>...</td>\n",
       "      <td>...</td>\n",
       "      <td>...</td>\n",
       "      <td>...</td>\n",
       "      <td>...</td>\n",
       "      <td>...</td>\n",
       "      <td>...</td>\n",
       "      <td>...</td>\n",
       "      <td>...</td>\n",
       "      <td>...</td>\n",
       "      <td>...</td>\n",
       "      <td>...</td>\n",
       "    </tr>\n",
       "    <tr>\n",
       "      <th>9054</th>\n",
       "      <td>26.0</td>\n",
       "      <td>403.0</td>\n",
       "      <td>1135.0</td>\n",
       "      <td>8095.0</td>\n",
       "      <td>21.70080</td>\n",
       "      <td>88.11250</td>\n",
       "      <td>8.53</td>\n",
       "      <td>827.0</td>\n",
       "      <td>27.0</td>\n",
       "      <td>256.0</td>\n",
       "      <td>...</td>\n",
       "      <td>0.067829</td>\n",
       "      <td>235.0</td>\n",
       "      <td>26.0</td>\n",
       "      <td>41.0</td>\n",
       "      <td>122.0</td>\n",
       "      <td>4.2</td>\n",
       "      <td>0.00</td>\n",
       "      <td>25.12151</td>\n",
       "      <td>521.0</td>\n",
       "      <td>9.280</td>\n",
       "    </tr>\n",
       "    <tr>\n",
       "      <th>9055</th>\n",
       "      <td>26.0</td>\n",
       "      <td>403.0</td>\n",
       "      <td>1135.0</td>\n",
       "      <td>8096.0</td>\n",
       "      <td>22.55580</td>\n",
       "      <td>88.59690</td>\n",
       "      <td>8.48</td>\n",
       "      <td>755.0</td>\n",
       "      <td>30.0</td>\n",
       "      <td>275.0</td>\n",
       "      <td>...</td>\n",
       "      <td>0.067829</td>\n",
       "      <td>175.0</td>\n",
       "      <td>24.0</td>\n",
       "      <td>28.0</td>\n",
       "      <td>120.0</td>\n",
       "      <td>3.8</td>\n",
       "      <td>0.00</td>\n",
       "      <td>25.12151</td>\n",
       "      <td>460.0</td>\n",
       "      <td>0.490</td>\n",
       "    </tr>\n",
       "    <tr>\n",
       "      <th>9056</th>\n",
       "      <td>26.0</td>\n",
       "      <td>403.0</td>\n",
       "      <td>1135.0</td>\n",
       "      <td>8097.0</td>\n",
       "      <td>21.85440</td>\n",
       "      <td>88.29780</td>\n",
       "      <td>8.48</td>\n",
       "      <td>856.0</td>\n",
       "      <td>30.0</td>\n",
       "      <td>262.0</td>\n",
       "      <td>...</td>\n",
       "      <td>0.067829</td>\n",
       "      <td>170.0</td>\n",
       "      <td>14.0</td>\n",
       "      <td>33.0</td>\n",
       "      <td>135.0</td>\n",
       "      <td>4.6</td>\n",
       "      <td>0.00</td>\n",
       "      <td>25.12151</td>\n",
       "      <td>496.0</td>\n",
       "      <td>0.020</td>\n",
       "    </tr>\n",
       "    <tr>\n",
       "      <th>9057</th>\n",
       "      <td>26.0</td>\n",
       "      <td>403.0</td>\n",
       "      <td>2049.0</td>\n",
       "      <td>8098.0</td>\n",
       "      <td>22.38560</td>\n",
       "      <td>88.40500</td>\n",
       "      <td>8.71</td>\n",
       "      <td>717.0</td>\n",
       "      <td>30.0</td>\n",
       "      <td>275.0</td>\n",
       "      <td>...</td>\n",
       "      <td>0.067829</td>\n",
       "      <td>285.0</td>\n",
       "      <td>56.0</td>\n",
       "      <td>35.0</td>\n",
       "      <td>32.0</td>\n",
       "      <td>5.2</td>\n",
       "      <td>0.12</td>\n",
       "      <td>25.12151</td>\n",
       "      <td>378.0</td>\n",
       "      <td>0.200</td>\n",
       "    </tr>\n",
       "    <tr>\n",
       "      <th>9058</th>\n",
       "      <td>26.0</td>\n",
       "      <td>403.0</td>\n",
       "      <td>2049.0</td>\n",
       "      <td>8099.0</td>\n",
       "      <td>22.39310</td>\n",
       "      <td>88.41890</td>\n",
       "      <td>8.74</td>\n",
       "      <td>1173.0</td>\n",
       "      <td>30.0</td>\n",
       "      <td>250.0</td>\n",
       "      <td>...</td>\n",
       "      <td>0.067829</td>\n",
       "      <td>265.0</td>\n",
       "      <td>30.0</td>\n",
       "      <td>46.0</td>\n",
       "      <td>132.0</td>\n",
       "      <td>5.4</td>\n",
       "      <td>0.14</td>\n",
       "      <td>25.12151</td>\n",
       "      <td>572.0</td>\n",
       "      <td>0.100</td>\n",
       "    </tr>\n",
       "  </tbody>\n",
       "</table>\n",
       "<p>8916 rows × 23 columns</p>\n",
       "</div>"
      ],
      "text/plain": [
       "      STATE  DISTRICT   BLOCK  LOCATION  LATITUDE  LONGITUDE    pH      EC  \\\n",
       "0       1.0       1.0     1.0       1.0  11.54500   92.74583  7.74   349.0   \n",
       "1       1.0       1.0     1.0       2.0  11.60250   92.73000  7.53   660.0   \n",
       "2       1.0       1.0     1.0       3.0  11.62083   92.73028  7.50   270.0   \n",
       "3       1.0       1.0     2.0       4.0  11.73250   92.70861  7.60   311.0   \n",
       "4       1.0       1.0     2.0       5.0  11.66361   92.65806  7.82  2501.0   \n",
       "...     ...       ...     ...       ...       ...        ...   ...     ...   \n",
       "9054   26.0     403.0  1135.0    8095.0  21.70080   88.11250  8.53   827.0   \n",
       "9055   26.0     403.0  1135.0    8096.0  22.55580   88.59690  8.48   755.0   \n",
       "9056   26.0     403.0  1135.0    8097.0  21.85440   88.29780  8.48   856.0   \n",
       "9057   26.0     403.0  2049.0    8098.0  22.38560   88.40500  8.71   717.0   \n",
       "9058   26.0     403.0  2049.0    8099.0  22.39310   88.41890  8.74  1173.0   \n",
       "\n",
       "       CO3   HCO3  ...       PO4     TH    Ca    Mg     Na     K     F  \\\n",
       "0      0.0  183.0  ...  0.067829  175.0  34.0  22.0   10.0   0.0  0.84   \n",
       "1      0.0  262.0  ...  0.067829  250.0  52.0  29.0   51.0   1.0  0.28   \n",
       "2      0.0  116.0  ...  0.067829  125.0   4.0  28.0   10.0   1.0  0.46   \n",
       "3      0.0  159.0  ...  0.067829  135.0  26.0  17.0   15.0   2.0  0.37   \n",
       "4      0.0  512.0  ...  0.067829  465.0  56.0  79.0  336.0  18.0  0.95   \n",
       "...    ...    ...  ...       ...    ...   ...   ...    ...   ...   ...   \n",
       "9054  27.0  256.0  ...  0.067829  235.0  26.0  41.0  122.0   4.2  0.00   \n",
       "9055  30.0  275.0  ...  0.067829  175.0  24.0  28.0  120.0   3.8  0.00   \n",
       "9056  30.0  262.0  ...  0.067829  170.0  14.0  33.0  135.0   4.6  0.00   \n",
       "9057  30.0  275.0  ...  0.067829  285.0  56.0  35.0   32.0   5.2  0.12   \n",
       "9058  30.0  250.0  ...  0.067829  265.0  30.0  46.0  132.0   5.4  0.14   \n",
       "\n",
       "          SiO2     TDS  U(ppb)  \n",
       "0     25.12151   206.0   4.800  \n",
       "1     25.12151   381.0   6.400  \n",
       "2     25.12151   151.0   2.387  \n",
       "3     25.12151   198.0   0.400  \n",
       "4     25.12151  1424.0   2.387  \n",
       "...        ...     ...     ...  \n",
       "9054  25.12151   521.0   9.280  \n",
       "9055  25.12151   460.0   0.490  \n",
       "9056  25.12151   496.0   0.020  \n",
       "9057  25.12151   378.0   0.200  \n",
       "9058  25.12151   572.0   0.100  \n",
       "\n",
       "[8916 rows x 23 columns]"
      ]
     },
     "execution_count": 15,
     "metadata": {},
     "output_type": "execute_result"
    }
   ],
   "source": [
    "df"
   ]
  },
  {
   "cell_type": "markdown",
   "id": "605d7e69",
   "metadata": {
    "papermill": {
     "duration": 0.016269,
     "end_time": "2024-05-27T18:04:09.517046",
     "exception": false,
     "start_time": "2024-05-27T18:04:09.500777",
     "status": "completed"
    },
    "tags": []
   },
   "source": [
    "# **Visulization**"
   ]
  },
  {
   "cell_type": "code",
   "execution_count": 16,
   "id": "d9d627dd",
   "metadata": {
    "execution": {
     "iopub.execute_input": "2024-05-27T18:04:09.549354Z",
     "iopub.status.busy": "2024-05-27T18:04:09.548381Z",
     "iopub.status.idle": "2024-05-27T18:04:10.125331Z",
     "shell.execute_reply": "2024-05-27T18:04:10.124489Z"
    },
    "papermill": {
     "duration": 0.593219,
     "end_time": "2024-05-27T18:04:10.127336",
     "exception": false,
     "start_time": "2024-05-27T18:04:09.534117",
     "status": "completed"
    },
    "tags": []
   },
   "outputs": [
    {
     "data": {
      "text/plain": [
       "{'whiskers': [<matplotlib.lines.Line2D at 0x7aee4dbde260>,\n",
       "  <matplotlib.lines.Line2D at 0x7aee4dbdff10>,\n",
       "  <matplotlib.lines.Line2D at 0x7aee4dbdebc0>,\n",
       "  <matplotlib.lines.Line2D at 0x7aee4dbdee60>,\n",
       "  <matplotlib.lines.Line2D at 0x7aee4dbdd510>,\n",
       "  <matplotlib.lines.Line2D at 0x7aee4dbdf8e0>,\n",
       "  <matplotlib.lines.Line2D at 0x7aee4dfa34c0>,\n",
       "  <matplotlib.lines.Line2D at 0x7aee4dfa2f20>,\n",
       "  <matplotlib.lines.Line2D at 0x7aee4dfa0bb0>,\n",
       "  <matplotlib.lines.Line2D at 0x7aee4dfa25f0>,\n",
       "  <matplotlib.lines.Line2D at 0x7aee4e86a9b0>,\n",
       "  <matplotlib.lines.Line2D at 0x7aee4ddf6e60>,\n",
       "  <matplotlib.lines.Line2D at 0x7aee4ddf78e0>,\n",
       "  <matplotlib.lines.Line2D at 0x7aee4ddf77c0>,\n",
       "  <matplotlib.lines.Line2D at 0x7aee4e0b2470>,\n",
       "  <matplotlib.lines.Line2D at 0x7aee4e0b3670>,\n",
       "  <matplotlib.lines.Line2D at 0x7aee4e0b26b0>,\n",
       "  <matplotlib.lines.Line2D at 0x7aee4e0b1930>,\n",
       "  <matplotlib.lines.Line2D at 0x7aee4e0b15d0>,\n",
       "  <matplotlib.lines.Line2D at 0x7aee4e13e5c0>,\n",
       "  <matplotlib.lines.Line2D at 0x7aee4ddd3490>,\n",
       "  <matplotlib.lines.Line2D at 0x7aee4ddd34f0>,\n",
       "  <matplotlib.lines.Line2D at 0x7aee4ddd01f0>,\n",
       "  <matplotlib.lines.Line2D at 0x7aee4ddd2a10>,\n",
       "  <matplotlib.lines.Line2D at 0x7aee4ddd38e0>,\n",
       "  <matplotlib.lines.Line2D at 0x7aee4e93e5f0>,\n",
       "  <matplotlib.lines.Line2D at 0x7aee4e9ce230>,\n",
       "  <matplotlib.lines.Line2D at 0x7aee4e9cf190>,\n",
       "  <matplotlib.lines.Line2D at 0x7aee4e9ce920>,\n",
       "  <matplotlib.lines.Line2D at 0x7aee4e9ce890>,\n",
       "  <matplotlib.lines.Line2D at 0x7aee4dfd3d60>,\n",
       "  <matplotlib.lines.Line2D at 0x7aee4dfd2140>,\n",
       "  <matplotlib.lines.Line2D at 0x7aee4e252ad0>,\n",
       "  <matplotlib.lines.Line2D at 0x7aee4e251150>,\n",
       "  <matplotlib.lines.Line2D at 0x7aee4e251570>,\n",
       "  <matplotlib.lines.Line2D at 0x7aee4e252170>,\n",
       "  <matplotlib.lines.Line2D at 0x7aee4dd3a290>,\n",
       "  <matplotlib.lines.Line2D at 0x7aee4dd39840>,\n",
       "  <matplotlib.lines.Line2D at 0x7aee4dd39210>,\n",
       "  <matplotlib.lines.Line2D at 0x7aee4dd394b0>,\n",
       "  <matplotlib.lines.Line2D at 0x7aee4dd39ea0>,\n",
       "  <matplotlib.lines.Line2D at 0x7aee4dd38b50>,\n",
       "  <matplotlib.lines.Line2D at 0x7aee4e862f50>,\n",
       "  <matplotlib.lines.Line2D at 0x7aee4e8612d0>,\n",
       "  <matplotlib.lines.Line2D at 0x7aee4df4a500>,\n",
       "  <matplotlib.lines.Line2D at 0x7aee4df489d0>],\n",
       " 'caps': [<matplotlib.lines.Line2D at 0x7aee4dbdfc70>,\n",
       "  <matplotlib.lines.Line2D at 0x7aee4dbdc850>,\n",
       "  <matplotlib.lines.Line2D at 0x7aee4dbdd180>,\n",
       "  <matplotlib.lines.Line2D at 0x7aee4dbdcf10>,\n",
       "  <matplotlib.lines.Line2D at 0x7aee4dbdfb80>,\n",
       "  <matplotlib.lines.Line2D at 0x7aee4dbddd80>,\n",
       "  <matplotlib.lines.Line2D at 0x7aee4dfa3af0>,\n",
       "  <matplotlib.lines.Line2D at 0x7aee4dfa35e0>,\n",
       "  <matplotlib.lines.Line2D at 0x7aee4dfa31f0>,\n",
       "  <matplotlib.lines.Line2D at 0x7aee4dfa10c0>,\n",
       "  <matplotlib.lines.Line2D at 0x7aee4ddf4a90>,\n",
       "  <matplotlib.lines.Line2D at 0x7aee4ddf6f80>,\n",
       "  <matplotlib.lines.Line2D at 0x7aee4ddf7d00>,\n",
       "  <matplotlib.lines.Line2D at 0x7aee4ddf4f10>,\n",
       "  <matplotlib.lines.Line2D at 0x7aee4e0b2e30>,\n",
       "  <matplotlib.lines.Line2D at 0x7aee4e0b1690>,\n",
       "  <matplotlib.lines.Line2D at 0x7aee4e0b1d50>,\n",
       "  <matplotlib.lines.Line2D at 0x7aee4e0b22c0>,\n",
       "  <matplotlib.lines.Line2D at 0x7aee4e13c340>,\n",
       "  <matplotlib.lines.Line2D at 0x7aee4e13f850>,\n",
       "  <matplotlib.lines.Line2D at 0x7aee4ddd1a50>,\n",
       "  <matplotlib.lines.Line2D at 0x7aee4ddd0f70>,\n",
       "  <matplotlib.lines.Line2D at 0x7aee4ddd1ff0>,\n",
       "  <matplotlib.lines.Line2D at 0x7aee4ddd1120>,\n",
       "  <matplotlib.lines.Line2D at 0x7aee4e93c100>,\n",
       "  <matplotlib.lines.Line2D at 0x7aee4e93e470>,\n",
       "  <matplotlib.lines.Line2D at 0x7aee4e9cd660>,\n",
       "  <matplotlib.lines.Line2D at 0x7aee4e9cd3c0>,\n",
       "  <matplotlib.lines.Line2D at 0x7aee4e9cf0d0>,\n",
       "  <matplotlib.lines.Line2D at 0x7aee4e9cd720>,\n",
       "  <matplotlib.lines.Line2D at 0x7aee4dfd18a0>,\n",
       "  <matplotlib.lines.Line2D at 0x7aee4dfd0400>,\n",
       "  <matplotlib.lines.Line2D at 0x7aee4e253280>,\n",
       "  <matplotlib.lines.Line2D at 0x7aee4e253190>,\n",
       "  <matplotlib.lines.Line2D at 0x7aee4e251ff0>,\n",
       "  <matplotlib.lines.Line2D at 0x7aee4e250af0>,\n",
       "  <matplotlib.lines.Line2D at 0x7aee4dd3a770>,\n",
       "  <matplotlib.lines.Line2D at 0x7aee4dd3bfd0>,\n",
       "  <matplotlib.lines.Line2D at 0x7aee4dd39750>,\n",
       "  <matplotlib.lines.Line2D at 0x7aee4dd3b760>,\n",
       "  <matplotlib.lines.Line2D at 0x7aee4dd3b130>,\n",
       "  <matplotlib.lines.Line2D at 0x7aee4dd3a620>,\n",
       "  <matplotlib.lines.Line2D at 0x7aee4e862830>,\n",
       "  <matplotlib.lines.Line2D at 0x7aee4e8626e0>,\n",
       "  <matplotlib.lines.Line2D at 0x7aee4df48070>,\n",
       "  <matplotlib.lines.Line2D at 0x7aee4df4b700>],\n",
       " 'boxes': [<matplotlib.lines.Line2D at 0x7aee4dbdf610>,\n",
       "  <matplotlib.lines.Line2D at 0x7aee4dbde920>,\n",
       "  <matplotlib.lines.Line2D at 0x7aee4dbdd900>,\n",
       "  <matplotlib.lines.Line2D at 0x7aee4dfa2590>,\n",
       "  <matplotlib.lines.Line2D at 0x7aee4dfa32b0>,\n",
       "  <matplotlib.lines.Line2D at 0x7aee4e869ff0>,\n",
       "  <matplotlib.lines.Line2D at 0x7aee4ddf4a00>,\n",
       "  <matplotlib.lines.Line2D at 0x7aee4e0b19f0>,\n",
       "  <matplotlib.lines.Line2D at 0x7aee4e0b23e0>,\n",
       "  <matplotlib.lines.Line2D at 0x7aee4e0b3fd0>,\n",
       "  <matplotlib.lines.Line2D at 0x7aee4ddd1300>,\n",
       "  <matplotlib.lines.Line2D at 0x7aee4ddd3e80>,\n",
       "  <matplotlib.lines.Line2D at 0x7aee4ddd26b0>,\n",
       "  <matplotlib.lines.Line2D at 0x7aee4e9cd1e0>,\n",
       "  <matplotlib.lines.Line2D at 0x7aee4e9cc880>,\n",
       "  <matplotlib.lines.Line2D at 0x7aee4dfd2bf0>,\n",
       "  <matplotlib.lines.Line2D at 0x7aee4e253070>,\n",
       "  <matplotlib.lines.Line2D at 0x7aee4e250700>,\n",
       "  <matplotlib.lines.Line2D at 0x7aee4dd3ab30>,\n",
       "  <matplotlib.lines.Line2D at 0x7aee4dd38f70>,\n",
       "  <matplotlib.lines.Line2D at 0x7aee4dd3bb50>,\n",
       "  <matplotlib.lines.Line2D at 0x7aee4e862e00>,\n",
       "  <matplotlib.lines.Line2D at 0x7aee4df4b730>],\n",
       " 'medians': [<matplotlib.lines.Line2D at 0x7aee4dbddc30>,\n",
       "  <matplotlib.lines.Line2D at 0x7aee4dbdccd0>,\n",
       "  <matplotlib.lines.Line2D at 0x7aee4dbdd870>,\n",
       "  <matplotlib.lines.Line2D at 0x7aee4dfa15a0>,\n",
       "  <matplotlib.lines.Line2D at 0x7aee4e869b70>,\n",
       "  <matplotlib.lines.Line2D at 0x7aee4ddf7370>,\n",
       "  <matplotlib.lines.Line2D at 0x7aee4ddf4eb0>,\n",
       "  <matplotlib.lines.Line2D at 0x7aee4e0b2230>,\n",
       "  <matplotlib.lines.Line2D at 0x7aee4e0b1b10>,\n",
       "  <matplotlib.lines.Line2D at 0x7aee4e13ef50>,\n",
       "  <matplotlib.lines.Line2D at 0x7aee4ddd1540>,\n",
       "  <matplotlib.lines.Line2D at 0x7aee4ddd2260>,\n",
       "  <matplotlib.lines.Line2D at 0x7aee4e93ff40>,\n",
       "  <matplotlib.lines.Line2D at 0x7aee4e9cc820>,\n",
       "  <matplotlib.lines.Line2D at 0x7aee4dfd3ca0>,\n",
       "  <matplotlib.lines.Line2D at 0x7aee4e2530d0>,\n",
       "  <matplotlib.lines.Line2D at 0x7aee4e251990>,\n",
       "  <matplotlib.lines.Line2D at 0x7aee4dd3abf0>,\n",
       "  <matplotlib.lines.Line2D at 0x7aee4dd38370>,\n",
       "  <matplotlib.lines.Line2D at 0x7aee4dd39c30>,\n",
       "  <matplotlib.lines.Line2D at 0x7aee4dd3b850>,\n",
       "  <matplotlib.lines.Line2D at 0x7aee4e8603d0>,\n",
       "  <matplotlib.lines.Line2D at 0x7aee4df4a320>],\n",
       " 'fliers': [<matplotlib.lines.Line2D at 0x7aee4dbde650>,\n",
       "  <matplotlib.lines.Line2D at 0x7aee4dbdf400>,\n",
       "  <matplotlib.lines.Line2D at 0x7aee4dfa3460>,\n",
       "  <matplotlib.lines.Line2D at 0x7aee4dfa1360>,\n",
       "  <matplotlib.lines.Line2D at 0x7aee4e8694e0>,\n",
       "  <matplotlib.lines.Line2D at 0x7aee4ddf5510>,\n",
       "  <matplotlib.lines.Line2D at 0x7aee4e0b3e50>,\n",
       "  <matplotlib.lines.Line2D at 0x7aee4e0b2cb0>,\n",
       "  <matplotlib.lines.Line2D at 0x7aee4e0b2bc0>,\n",
       "  <matplotlib.lines.Line2D at 0x7aee4e13d000>,\n",
       "  <matplotlib.lines.Line2D at 0x7aee4ddd2860>,\n",
       "  <matplotlib.lines.Line2D at 0x7aee4ddd1090>,\n",
       "  <matplotlib.lines.Line2D at 0x7aee4e9cd900>,\n",
       "  <matplotlib.lines.Line2D at 0x7aee4e9ce020>,\n",
       "  <matplotlib.lines.Line2D at 0x7aee4dfd00a0>,\n",
       "  <matplotlib.lines.Line2D at 0x7aee4e251fc0>,\n",
       "  <matplotlib.lines.Line2D at 0x7aee4e250400>,\n",
       "  <matplotlib.lines.Line2D at 0x7aee4dd3b040>,\n",
       "  <matplotlib.lines.Line2D at 0x7aee4dd39f60>,\n",
       "  <matplotlib.lines.Line2D at 0x7aee4dd3a8c0>,\n",
       "  <matplotlib.lines.Line2D at 0x7aee4e863340>,\n",
       "  <matplotlib.lines.Line2D at 0x7aee4df484f0>,\n",
       "  <matplotlib.lines.Line2D at 0x7aee4df48340>],\n",
       " 'means': []}"
      ]
     },
     "execution_count": 16,
     "metadata": {},
     "output_type": "execute_result"
    },
    {
     "data": {
      "image/png": "[encoded data removed]",
      "text/plain": [
       "<Figure size 640x480 with 1 Axes>"
      ]
     },
     "metadata": {},
     "output_type": "display_data"
    }
   ],
   "source": [
    "plt.boxplot(df)"
   ]
  },
  {
   "cell_type": "code",
   "execution_count": 17,
   "id": "80a55c52",
   "metadata": {
    "execution": {
     "iopub.execute_input": "2024-05-27T18:04:10.156269Z",
     "iopub.status.busy": "2024-05-27T18:04:10.155972Z",
     "iopub.status.idle": "2024-05-27T18:04:10.553497Z",
     "shell.execute_reply": "2024-05-27T18:04:10.552593Z"
    },
    "papermill": {
     "duration": 0.414204,
     "end_time": "2024-05-27T18:04:10.555669",
     "exception": false,
     "start_time": "2024-05-27T18:04:10.141465",
     "status": "completed"
    },
    "tags": []
   },
   "outputs": [
    {
     "name": "stderr",
     "output_type": "stream",
     "text": [
      "/opt/conda/lib/python3.10/site-packages/seaborn/_oldcore.py:1119: FutureWarning: use_inf_as_na option is deprecated and will be removed in a future version. Convert inf values to NaN before operating instead.\n",
      "  with pd.option_context('mode.use_inf_as_na', True):\n"
     ]
    },
    {
     "data": {
      "image/png": "[encoded data removed]",
      "text/plain": [
       "<Figure size 800x600 with 1 Axes>"
      ]
     },
     "metadata": {},
     "output_type": "display_data"
    }
   ],
   "source": [
    "# Step 2: Exploratory Data Analysis (EDA)\n",
    "import matplotlib.pyplot as plt\n",
    "import seaborn as sns\n",
    "\n",
    "# Example: Visualize the distribution of pH\n",
    "plt.figure(figsize=(8, 6))\n",
    "sns.histplot(df['TDS'], bins=20, kde=True)\n",
    "plt.title('Distribution of TDS')\n",
    "plt.show()"
   ]
  },
  {
   "cell_type": "code",
   "execution_count": 18,
   "id": "ccc43cad",
   "metadata": {
    "execution": {
     "iopub.execute_input": "2024-05-27T18:04:10.585272Z",
     "iopub.status.busy": "2024-05-27T18:04:10.584762Z",
     "iopub.status.idle": "2024-05-27T18:04:10.904527Z",
     "shell.execute_reply": "2024-05-27T18:04:10.903646Z"
    },
    "papermill": {
     "duration": 0.336557,
     "end_time": "2024-05-27T18:04:10.906483",
     "exception": false,
     "start_time": "2024-05-27T18:04:10.569926",
     "status": "completed"
    },
    "tags": []
   },
   "outputs": [
    {
     "name": "stderr",
     "output_type": "stream",
     "text": [
      "/tmp/ipykernel_27/435319664.py:3: UserWarning: \n",
      "\n",
      "`distplot` is a deprecated function and will be removed in seaborn v0.14.0.\n",
      "\n",
      "Please adapt your code to use either `displot` (a figure-level function with\n",
      "similar flexibility) or `histplot` (an axes-level function for histograms).\n",
      "\n",
      "For a guide to updating your code to use the new functions, please see\n",
      "https://gist.github.com/mwaskom/de44147ed2974457ad6372750bbe5751\n",
      "\n",
      "  sns.distplot(df[df[col] == i]['pH'], kde=False, hist = True, color=\"red\")\n"
     ]
    },
    {
     "data": {
      "image/png": "[encoded data removed]",
      "text/plain": [
       "<Figure size 640x480 with 1 Axes>"
      ]
     },
     "metadata": {},
     "output_type": "display_data"
    }
   ],
   "source": [
    "i = 0\n",
    "for col in df.columns:\n",
    "    sns.distplot(df[df[col] == i]['pH'], kde=False, hist = True, color=\"red\")\n",
    "    i = i+1\n",
    "plt.show()"
   ]
  },
  {
   "cell_type": "code",
   "execution_count": 19,
   "id": "45bc3993",
   "metadata": {
    "execution": {
     "iopub.execute_input": "2024-05-27T18:04:10.936717Z",
     "iopub.status.busy": "2024-05-27T18:04:10.936405Z",
     "iopub.status.idle": "2024-05-27T18:04:11.102999Z",
     "shell.execute_reply": "2024-05-27T18:04:11.102089Z"
    },
    "papermill": {
     "duration": 0.183851,
     "end_time": "2024-05-27T18:04:11.105089",
     "exception": false,
     "start_time": "2024-05-27T18:04:10.921238",
     "status": "completed"
    },
    "tags": []
   },
   "outputs": [
    {
     "data": {
      "image/png": "[encoded data removed]",
      "text/plain": [
       "<Figure size 640x480 with 1 Axes>"
      ]
     },
     "metadata": {},
     "output_type": "display_data"
    }
   ],
   "source": [
    "x = df['STATE']\n",
    "y = df['TDS']\n",
    "plt.plot(x,y)\n",
    "plt.show()"
   ]
  },
  {
   "cell_type": "markdown",
   "id": "c45cff20",
   "metadata": {
    "papermill": {
     "duration": 0.01439,
     "end_time": "2024-05-27T18:04:11.134469",
     "exception": false,
     "start_time": "2024-05-27T18:04:11.120079",
     "status": "completed"
    },
    "tags": []
   },
   "source": [
    "# **Unsupervised Algorithms**"
   ]
  },
  {
   "cell_type": "code",
   "execution_count": 20,
   "id": "0f87ebb9",
   "metadata": {
    "execution": {
     "iopub.execute_input": "2024-05-27T18:04:11.165384Z",
     "iopub.status.busy": "2024-05-27T18:04:11.165118Z",
     "iopub.status.idle": "2024-05-27T18:04:39.045037Z",
     "shell.execute_reply": "2024-05-27T18:04:39.043879Z"
    },
    "papermill": {
     "duration": 27.897697,
     "end_time": "2024-05-27T18:04:39.047159",
     "exception": false,
     "start_time": "2024-05-27T18:04:11.149462",
     "status": "completed"
    },
    "tags": []
   },
   "outputs": [
    {
     "name": "stdout",
     "output_type": "stream",
     "text": [
      "Epoch 1/30\n",
      "223/223 [==============================] - 3s 4ms/step - loss: 0.4769 - val_loss: 0.4141\n",
      "Epoch 2/30\n",
      "223/223 [==============================] - 1s 3ms/step - loss: 0.1666 - val_loss: 0.3391\n",
      "Epoch 3/30\n",
      "223/223 [==============================] - 1s 3ms/step - loss: 0.1022 - val_loss: 0.3207\n",
      "Epoch 4/30\n",
      "223/223 [==============================] - 1s 3ms/step - loss: 0.0706 - val_loss: 0.3065\n",
      "Epoch 5/30\n",
      "223/223 [==============================] - 1s 3ms/step - loss: 0.0474 - val_loss: 0.3234\n",
      "Epoch 6/30\n",
      "223/223 [==============================] - 1s 3ms/step - loss: 0.0338 - val_loss: 0.3372\n",
      "Epoch 7/30\n",
      "223/223 [==============================] - 1s 3ms/step - loss: 0.0384 - val_loss: 0.2689\n",
      "Epoch 8/30\n",
      "223/223 [==============================] - 1s 3ms/step - loss: 0.0407 - val_loss: 0.3101\n",
      "Epoch 9/30\n",
      "223/223 [==============================] - 1s 3ms/step - loss: 0.0226 - val_loss: 0.3115\n",
      "Epoch 10/30\n",
      "223/223 [==============================] - 1s 3ms/step - loss: 0.0190 - val_loss: 0.3270\n",
      "Epoch 11/30\n",
      "223/223 [==============================] - 1s 3ms/step - loss: 0.0184 - val_loss: 0.3106\n",
      "Epoch 12/30\n",
      "223/223 [==============================] - 1s 3ms/step - loss: 0.0180 - val_loss: 0.3272\n",
      "Epoch 13/30\n",
      "223/223 [==============================] - 1s 3ms/step - loss: 0.0157 - val_loss: 0.3141\n",
      "Epoch 14/30\n",
      "223/223 [==============================] - 1s 3ms/step - loss: 0.0130 - val_loss: 0.3207\n",
      "Epoch 15/30\n",
      "223/223 [==============================] - 1s 3ms/step - loss: 0.0111 - val_loss: 0.3168\n",
      "Epoch 16/30\n",
      "223/223 [==============================] - 1s 3ms/step - loss: 0.0114 - val_loss: 0.3150\n",
      "Epoch 17/30\n",
      "223/223 [==============================] - 1s 3ms/step - loss: 0.0118 - val_loss: 0.3141\n",
      "Epoch 18/30\n",
      "223/223 [==============================] - 1s 3ms/step - loss: 0.0141 - val_loss: 0.3170\n",
      "Epoch 19/30\n",
      "223/223 [==============================] - 1s 3ms/step - loss: 0.0167 - val_loss: 0.3232\n",
      "Epoch 20/30\n",
      "223/223 [==============================] - 1s 3ms/step - loss: 0.0150 - val_loss: 0.3299\n",
      "Epoch 21/30\n",
      "223/223 [==============================] - 1s 3ms/step - loss: 0.0120 - val_loss: 0.3256\n",
      "Epoch 22/30\n",
      "223/223 [==============================] - 1s 3ms/step - loss: 0.0102 - val_loss: 0.3441\n",
      "Epoch 23/30\n",
      "223/223 [==============================] - 1s 3ms/step - loss: 0.0108 - val_loss: 0.3308\n",
      "Epoch 24/30\n",
      "223/223 [==============================] - 1s 3ms/step - loss: 0.0183 - val_loss: 0.3314\n",
      "Epoch 25/30\n",
      "223/223 [==============================] - 1s 3ms/step - loss: 0.0092 - val_loss: 0.3432\n",
      "Epoch 26/30\n",
      "223/223 [==============================] - 1s 3ms/step - loss: 0.0110 - val_loss: 0.3255\n",
      "Epoch 27/30\n",
      "223/223 [==============================] - 1s 3ms/step - loss: 0.0082 - val_loss: 0.3369\n",
      "Epoch 28/30\n",
      "223/223 [==============================] - 1s 3ms/step - loss: 0.0104 - val_loss: 0.3295\n",
      "Epoch 29/30\n",
      "223/223 [==============================] - 1s 3ms/step - loss: 0.0079 - val_loss: 0.3308\n",
      "Epoch 30/30\n",
      "223/223 [==============================] - 1s 3ms/step - loss: 0.0096 - val_loss: 0.3279\n",
      "279/279 [==============================] - 0s 1ms/step\n"
     ]
    },
    {
     "name": "stderr",
     "output_type": "stream",
     "text": [
      "/opt/conda/lib/python3.10/site-packages/sklearn/cluster/_kmeans.py:870: FutureWarning: The default value of `n_init` will change from 10 to 'auto' in 1.4. Set the value of `n_init` explicitly to suppress the warning\n",
      "  warnings.warn(\n"
     ]
    },
    {
     "name": "stdout",
     "output_type": "stream",
     "text": [
      "Silhouette Score: 0.6157320737838745\n"
     ]
    }
   ],
   "source": [
    "scaler = StandardScaler()\n",
    "scaled_data = scaler.fit_transform(df)\n",
    "\n",
    "# Handle missing values using SimpleImputer\n",
    "imputer = SimpleImputer(strategy='mean')  # You can choose a different strategy if needed\n",
    "scaled_data_no_nan = imputer.fit_transform(scaled_data)\n",
    "\n",
    "# Split the data into training and testing sets\n",
    "X_train, X_test = train_test_split(scaled_data_no_nan, test_size=0.2, random_state=42)\n",
    "\n",
    "# Build the autoencoder model\n",
    "input_dim = X_train.shape[1]\n",
    "\n",
    "model = tf.keras.models.Sequential([\n",
    "    tf.keras.layers.InputLayer(input_shape=(input_dim,)),\n",
    "    tf.keras.layers.Dense(64, activation='relu'),\n",
    "    tf.keras.layers.Dense(32, activation='relu'),\n",
    "    tf.keras.layers.Dense(64, activation='relu'),\n",
    "    tf.keras.layers.Dense(input_dim, activation='linear')\n",
    "])\n",
    "\n",
    "model.compile(optimizer='adam', loss='mean_squared_error')\n",
    "\n",
    "\n",
    "# Train the model\n",
    "model.fit(X_train, X_train, epochs=30, batch_size=32, validation_data=(X_test, X_test))\n",
    "\n",
    "# Use the trained model for encoding the data\n",
    "encoded_data = model.predict(scaled_data_no_nan)\n",
    "\n",
    "# Perform clustering on the encoded data (example: KMeans)\n",
    "kmeans = KMeans(n_clusters=2)  # You can choose the number of clusters based on your requirements\n",
    "clusters = kmeans.fit_predict(encoded_data)\n",
    "\n",
    "# Assess the clustering performance (example: Silhouette Score)\n",
    "silhouette_avg = silhouette_score(encoded_data, clusters)\n",
    "print(f\"Silhouette Score: {silhouette_avg}\")"
   ]
  },
  {
   "cell_type": "code",
   "execution_count": 21,
   "id": "ddb65e56",
   "metadata": {
    "execution": {
     "iopub.execute_input": "2024-05-27T18:04:39.145698Z",
     "iopub.status.busy": "2024-05-27T18:04:39.145355Z",
     "iopub.status.idle": "2024-05-27T18:04:43.375413Z",
     "shell.execute_reply": "2024-05-27T18:04:43.374424Z"
    },
    "papermill": {
     "duration": 4.280948,
     "end_time": "2024-05-27T18:04:43.377518",
     "exception": false,
     "start_time": "2024-05-27T18:04:39.096570",
     "status": "completed"
    },
    "tags": []
   },
   "outputs": [
    {
     "name": "stderr",
     "output_type": "stream",
     "text": [
      "/opt/conda/lib/python3.10/site-packages/sklearn/cluster/_kmeans.py:870: FutureWarning: The default value of `n_init` will change from 10 to 'auto' in 1.4. Set the value of `n_init` explicitly to suppress the warning\n",
      "  warnings.warn(\n"
     ]
    },
    {
     "data": {
      "image/png": "[encoded data removed]",
      "text/plain": [
       "<Figure size 640x480 with 1 Axes>"
      ]
     },
     "metadata": {},
     "output_type": "display_data"
    }
   ],
   "source": [
    "import numpy as np\n",
    "import matplotlib.pyplot as plt\n",
    "from sklearn.metrics import silhouette_samples\n",
    "\n",
    "# Perform clustering on the encoded data (example: KMeans)\n",
    "kmeans = KMeans(n_clusters=3)\n",
    "clusters = kmeans.fit_predict(encoded_data)\n",
    "\n",
    "# Calculate Silhouette Scores for each data point\n",
    "silhouette_values = silhouette_samples(encoded_data, clusters)\n",
    "\n",
    "# Plotting the silhouette plot\n",
    "fig, ax = plt.subplots()\n",
    "y_lower = 10  # Starting y-coordinate for the silhouette plot\n",
    "\n",
    "for i in range(len(np.unique(clusters))):\n",
    "    # Aggregate the silhouette scores for samples belonging to cluster i\n",
    "    cluster_i_values = silhouette_values[clusters == i]\n",
    "    cluster_i_values.sort()\n",
    "\n",
    "    # Compute y_upper for the silhouette plot\n",
    "    y_upper = y_lower + len(cluster_i_values)\n",
    "\n",
    "    # Color the clusters for better visualization\n",
    "    color = plt.cm.nipy_spectral(float(i) / len(np.unique(clusters)))\n",
    "\n",
    "    # Fill the silhouette plot\n",
    "    ax.fill_betweenx(np.arange(y_lower, y_upper), 0, cluster_i_values, facecolor=color, edgecolor=color, alpha=0.7)\n",
    "\n",
    "    # Label the silhouette plot with cluster numbers at the middle\n",
    "    ax.text(-0.05, y_lower + 0.5 * len(cluster_i_values), str(i))\n",
    "\n",
    "    # Compute the new y_lower for the next plot\n",
    "    y_lower = y_upper + 10  # 10 for the 0 samples\n",
    "\n",
    "ax.set_xlabel(\"Silhouette Score\")\n",
    "ax.set_ylabel(\"Cluster label\")\n",
    "\n",
    "# The vertical line for average silhouette score across all clusters\n",
    "silhouette_avg = silhouette_score(encoded_data, clusters)\n",
    "ax.axvline(x=silhouette_avg, color=\"red\", linestyle=\"--\")\n",
    "\n",
    "# Annotate the average silhouette score\n",
    "ax.text(silhouette_avg + 0.025, y_lower - 15, f'Average: {silhouette_avg:.3f}', color=\"red\")\n",
    "\n",
    "plt.show()\n"
   ]
  },
  {
   "cell_type": "markdown",
   "id": "cc12f598",
   "metadata": {
    "papermill": {
     "duration": 0.047462,
     "end_time": "2024-05-27T18:04:43.473870",
     "exception": false,
     "start_time": "2024-05-27T18:04:43.426408",
     "status": "completed"
    },
    "tags": []
   },
   "source": [
    "# **Supervise Learning**"
   ]
  },
  {
   "cell_type": "code",
   "execution_count": 22,
   "id": "6867071b",
   "metadata": {
    "execution": {
     "iopub.execute_input": "2024-05-27T18:04:43.573292Z",
     "iopub.status.busy": "2024-05-27T18:04:43.572720Z",
     "iopub.status.idle": "2024-05-27T18:04:43.578765Z",
     "shell.execute_reply": "2024-05-27T18:04:43.577930Z"
    },
    "papermill": {
     "duration": 0.058078,
     "end_time": "2024-05-27T18:04:43.580718",
     "exception": false,
     "start_time": "2024-05-27T18:04:43.522640",
     "status": "completed"
    },
    "tags": []
   },
   "outputs": [
    {
     "data": {
      "text/plain": [
       "Index(['STATE', 'DISTRICT', 'BLOCK', 'LOCATION', 'LATITUDE', 'LONGITUDE', 'pH',\n",
       "       'EC', 'CO3', 'HCO3', 'Cl', 'SO4', 'NO3', 'PO4', 'TH', 'Ca', 'Mg', 'Na',\n",
       "       'K', 'F', 'SiO2', 'TDS', 'U(ppb)'],\n",
       "      dtype='object')"
      ]
     },
     "execution_count": 22,
     "metadata": {},
     "output_type": "execute_result"
    }
   ],
   "source": [
    "df.columns"
   ]
  },
  {
   "cell_type": "code",
   "execution_count": 23,
   "id": "bd97009f",
   "metadata": {
    "execution": {
     "iopub.execute_input": "2024-05-27T18:04:43.679202Z",
     "iopub.status.busy": "2024-05-27T18:04:43.678462Z",
     "iopub.status.idle": "2024-05-27T18:04:43.684417Z",
     "shell.execute_reply": "2024-05-27T18:04:43.683582Z"
    },
    "papermill": {
     "duration": 0.057182,
     "end_time": "2024-05-27T18:04:43.686336",
     "exception": false,
     "start_time": "2024-05-27T18:04:43.629154",
     "status": "completed"
    },
    "tags": []
   },
   "outputs": [],
   "source": [
    "df_supervised = df.drop(['STATE', 'DISTRICT', 'BLOCK', 'U(ppb)'],axis=1)"
   ]
  },
  {
   "cell_type": "code",
   "execution_count": 24,
   "id": "cee9436a",
   "metadata": {
    "execution": {
     "iopub.execute_input": "2024-05-27T18:04:43.785026Z",
     "iopub.status.busy": "2024-05-27T18:04:43.784749Z",
     "iopub.status.idle": "2024-05-27T18:04:43.810679Z",
     "shell.execute_reply": "2024-05-27T18:04:43.809834Z"
    },
    "papermill": {
     "duration": 0.076786,
     "end_time": "2024-05-27T18:04:43.812607",
     "exception": false,
     "start_time": "2024-05-27T18:04:43.735821",
     "status": "completed"
    },
    "tags": []
   },
   "outputs": [
    {
     "data": {
      "text/html": [
       "<div>\n",
       "<style scoped>\n",
       "    .dataframe tbody tr th:only-of-type {\n",
       "        vertical-align: middle;\n",
       "    }\n",
       "\n",
       "    .dataframe tbody tr th {\n",
       "        vertical-align: top;\n",
       "    }\n",
       "\n",
       "    .dataframe thead th {\n",
       "        text-align: right;\n",
       "    }\n",
       "</style>\n",
       "<table border=\"1\" class=\"dataframe\">\n",
       "  <thead>\n",
       "    <tr style=\"text-align: right;\">\n",
       "      <th></th>\n",
       "      <th>LOCATION</th>\n",
       "      <th>LATITUDE</th>\n",
       "      <th>LONGITUDE</th>\n",
       "      <th>pH</th>\n",
       "      <th>EC</th>\n",
       "      <th>CO3</th>\n",
       "      <th>HCO3</th>\n",
       "      <th>Cl</th>\n",
       "      <th>SO4</th>\n",
       "      <th>NO3</th>\n",
       "      <th>PO4</th>\n",
       "      <th>TH</th>\n",
       "      <th>Ca</th>\n",
       "      <th>Mg</th>\n",
       "      <th>Na</th>\n",
       "      <th>K</th>\n",
       "      <th>F</th>\n",
       "      <th>SiO2</th>\n",
       "      <th>TDS</th>\n",
       "    </tr>\n",
       "  </thead>\n",
       "  <tbody>\n",
       "    <tr>\n",
       "      <th>0</th>\n",
       "      <td>1.0</td>\n",
       "      <td>11.54500</td>\n",
       "      <td>92.74583</td>\n",
       "      <td>7.74</td>\n",
       "      <td>349.0</td>\n",
       "      <td>0.0</td>\n",
       "      <td>183.0</td>\n",
       "      <td>25.0</td>\n",
       "      <td>1.0</td>\n",
       "      <td>1.0</td>\n",
       "      <td>0.067829</td>\n",
       "      <td>175.0</td>\n",
       "      <td>34.0</td>\n",
       "      <td>22.0</td>\n",
       "      <td>10.0</td>\n",
       "      <td>0.0</td>\n",
       "      <td>0.84</td>\n",
       "      <td>25.12151</td>\n",
       "      <td>206.0</td>\n",
       "    </tr>\n",
       "    <tr>\n",
       "      <th>1</th>\n",
       "      <td>2.0</td>\n",
       "      <td>11.60250</td>\n",
       "      <td>92.73000</td>\n",
       "      <td>7.53</td>\n",
       "      <td>660.0</td>\n",
       "      <td>0.0</td>\n",
       "      <td>262.0</td>\n",
       "      <td>82.0</td>\n",
       "      <td>5.0</td>\n",
       "      <td>1.0</td>\n",
       "      <td>0.067829</td>\n",
       "      <td>250.0</td>\n",
       "      <td>52.0</td>\n",
       "      <td>29.0</td>\n",
       "      <td>51.0</td>\n",
       "      <td>1.0</td>\n",
       "      <td>0.28</td>\n",
       "      <td>25.12151</td>\n",
       "      <td>381.0</td>\n",
       "    </tr>\n",
       "    <tr>\n",
       "      <th>2</th>\n",
       "      <td>3.0</td>\n",
       "      <td>11.62083</td>\n",
       "      <td>92.73028</td>\n",
       "      <td>7.50</td>\n",
       "      <td>270.0</td>\n",
       "      <td>0.0</td>\n",
       "      <td>116.0</td>\n",
       "      <td>35.0</td>\n",
       "      <td>1.0</td>\n",
       "      <td>0.0</td>\n",
       "      <td>0.067829</td>\n",
       "      <td>125.0</td>\n",
       "      <td>4.0</td>\n",
       "      <td>28.0</td>\n",
       "      <td>10.0</td>\n",
       "      <td>1.0</td>\n",
       "      <td>0.46</td>\n",
       "      <td>25.12151</td>\n",
       "      <td>151.0</td>\n",
       "    </tr>\n",
       "    <tr>\n",
       "      <th>3</th>\n",
       "      <td>4.0</td>\n",
       "      <td>11.73250</td>\n",
       "      <td>92.70861</td>\n",
       "      <td>7.60</td>\n",
       "      <td>311.0</td>\n",
       "      <td>0.0</td>\n",
       "      <td>159.0</td>\n",
       "      <td>39.0</td>\n",
       "      <td>2.0</td>\n",
       "      <td>0.0</td>\n",
       "      <td>0.067829</td>\n",
       "      <td>135.0</td>\n",
       "      <td>26.0</td>\n",
       "      <td>17.0</td>\n",
       "      <td>15.0</td>\n",
       "      <td>2.0</td>\n",
       "      <td>0.37</td>\n",
       "      <td>25.12151</td>\n",
       "      <td>198.0</td>\n",
       "    </tr>\n",
       "    <tr>\n",
       "      <th>4</th>\n",
       "      <td>5.0</td>\n",
       "      <td>11.66361</td>\n",
       "      <td>92.65806</td>\n",
       "      <td>7.82</td>\n",
       "      <td>2501.0</td>\n",
       "      <td>0.0</td>\n",
       "      <td>512.0</td>\n",
       "      <td>560.0</td>\n",
       "      <td>56.0</td>\n",
       "      <td>5.0</td>\n",
       "      <td>0.067829</td>\n",
       "      <td>465.0</td>\n",
       "      <td>56.0</td>\n",
       "      <td>79.0</td>\n",
       "      <td>336.0</td>\n",
       "      <td>18.0</td>\n",
       "      <td>0.95</td>\n",
       "      <td>25.12151</td>\n",
       "      <td>1424.0</td>\n",
       "    </tr>\n",
       "  </tbody>\n",
       "</table>\n",
       "</div>"
      ],
      "text/plain": [
       "   LOCATION  LATITUDE  LONGITUDE    pH      EC  CO3   HCO3     Cl   SO4  NO3  \\\n",
       "0       1.0  11.54500   92.74583  7.74   349.0  0.0  183.0   25.0   1.0  1.0   \n",
       "1       2.0  11.60250   92.73000  7.53   660.0  0.0  262.0   82.0   5.0  1.0   \n",
       "2       3.0  11.62083   92.73028  7.50   270.0  0.0  116.0   35.0   1.0  0.0   \n",
       "3       4.0  11.73250   92.70861  7.60   311.0  0.0  159.0   39.0   2.0  0.0   \n",
       "4       5.0  11.66361   92.65806  7.82  2501.0  0.0  512.0  560.0  56.0  5.0   \n",
       "\n",
       "        PO4     TH    Ca    Mg     Na     K     F      SiO2     TDS  \n",
       "0  0.067829  175.0  34.0  22.0   10.0   0.0  0.84  25.12151   206.0  \n",
       "1  0.067829  250.0  52.0  29.0   51.0   1.0  0.28  25.12151   381.0  \n",
       "2  0.067829  125.0   4.0  28.0   10.0   1.0  0.46  25.12151   151.0  \n",
       "3  0.067829  135.0  26.0  17.0   15.0   2.0  0.37  25.12151   198.0  \n",
       "4  0.067829  465.0  56.0  79.0  336.0  18.0  0.95  25.12151  1424.0  "
      ]
     },
     "execution_count": 24,
     "metadata": {},
     "output_type": "execute_result"
    }
   ],
   "source": [
    "df_supervised.head(5)"
   ]
  },
  {
   "cell_type": "code",
   "execution_count": 25,
   "id": "e29b55ea",
   "metadata": {
    "execution": {
     "iopub.execute_input": "2024-05-27T18:04:43.913165Z",
     "iopub.status.busy": "2024-05-27T18:04:43.912900Z",
     "iopub.status.idle": "2024-05-27T18:04:43.918751Z",
     "shell.execute_reply": "2024-05-27T18:04:43.917940Z"
    },
    "papermill": {
     "duration": 0.056951,
     "end_time": "2024-05-27T18:04:43.920557",
     "exception": false,
     "start_time": "2024-05-27T18:04:43.863606",
     "status": "completed"
    },
    "tags": []
   },
   "outputs": [],
   "source": [
    "df_x = df_supervised.drop(['TDS'],axis = 1)\n",
    "df_y = df['TDS']"
   ]
  },
  {
   "cell_type": "code",
   "execution_count": 26,
   "id": "95921bc8",
   "metadata": {
    "execution": {
     "iopub.execute_input": "2024-05-27T18:04:44.018663Z",
     "iopub.status.busy": "2024-05-27T18:04:44.018387Z",
     "iopub.status.idle": "2024-05-27T18:04:44.025038Z",
     "shell.execute_reply": "2024-05-27T18:04:44.024118Z"
    },
    "papermill": {
     "duration": 0.058391,
     "end_time": "2024-05-27T18:04:44.027092",
     "exception": false,
     "start_time": "2024-05-27T18:04:43.968701",
     "status": "completed"
    },
    "tags": []
   },
   "outputs": [
    {
     "data": {
      "text/plain": [
       "LOCATION     float64\n",
       "LATITUDE     float64\n",
       "LONGITUDE    float64\n",
       "pH           float64\n",
       "EC           float64\n",
       "CO3          float64\n",
       "HCO3         float64\n",
       "Cl           float64\n",
       "SO4          float64\n",
       "NO3          float64\n",
       "PO4          float64\n",
       "TH           float64\n",
       "Ca           float64\n",
       "Mg           float64\n",
       "Na           float64\n",
       "K            float64\n",
       "F            float64\n",
       "SiO2         float64\n",
       "dtype: object"
      ]
     },
     "execution_count": 26,
     "metadata": {},
     "output_type": "execute_result"
    }
   ],
   "source": [
    "df_x.dtypes"
   ]
  },
  {
   "cell_type": "code",
   "execution_count": 27,
   "id": "e3fbd8e6",
   "metadata": {
    "execution": {
     "iopub.execute_input": "2024-05-27T18:04:44.126123Z",
     "iopub.status.busy": "2024-05-27T18:04:44.125842Z",
     "iopub.status.idle": "2024-05-27T18:04:44.133600Z",
     "shell.execute_reply": "2024-05-27T18:04:44.132610Z"
    },
    "papermill": {
     "duration": 0.059395,
     "end_time": "2024-05-27T18:04:44.135526",
     "exception": false,
     "start_time": "2024-05-27T18:04:44.076131",
     "status": "completed"
    },
    "tags": []
   },
   "outputs": [
    {
     "data": {
      "text/plain": [
       "0        206.0\n",
       "1        381.0\n",
       "2        151.0\n",
       "3        198.0\n",
       "4       1424.0\n",
       "         ...  \n",
       "9054     521.0\n",
       "9055     460.0\n",
       "9056     496.0\n",
       "9057     378.0\n",
       "9058     572.0\n",
       "Name: TDS, Length: 8916, dtype: float64"
      ]
     },
     "execution_count": 27,
     "metadata": {},
     "output_type": "execute_result"
    }
   ],
   "source": [
    "df_y"
   ]
  },
  {
   "cell_type": "code",
   "execution_count": 28,
   "id": "e1936474",
   "metadata": {
    "execution": {
     "iopub.execute_input": "2024-05-27T18:04:44.236683Z",
     "iopub.status.busy": "2024-05-27T18:04:44.236371Z",
     "iopub.status.idle": "2024-05-27T18:04:44.290000Z",
     "shell.execute_reply": "2024-05-27T18:04:44.289330Z"
    },
    "papermill": {
     "duration": 0.106715,
     "end_time": "2024-05-27T18:04:44.291965",
     "exception": false,
     "start_time": "2024-05-27T18:04:44.185250",
     "status": "completed"
    },
    "tags": []
   },
   "outputs": [],
   "source": [
    "import pandas as pd\n",
    "\n",
    "def convert_to_classes_and_replace(data_series):\n",
    "    classes = []\n",
    "    for value in data_series:\n",
    "        value_numeric = pd.to_numeric(value, errors='coerce')\n",
    "        if pd.isnull(value_numeric):\n",
    "            classes.append(\"Invalid value\")\n",
    "        elif value_numeric < 300:\n",
    "            classes.append(\"Excellent range for drinking water\")\n",
    "        elif 300 <= value_numeric <= 500:\n",
    "            classes.append(\"Good range\")\n",
    "        elif 600 <= value_numeric <= 900:\n",
    "            classes.append(\"Fair range\")\n",
    "        elif 900 <= value_numeric <= 1200:\n",
    "            classes.append(\"Poor range\")\n",
    "        else:\n",
    "            classes.append(\"Unacceptable range\")\n",
    "    return classes\n",
    "\n",
    "# Example usage:\n",
    "data_series = df_y\n",
    "replaced_data = convert_to_classes_and_replace(data_series)\n",
    "\n",
    "df_y = replaced_data"
   ]
  },
  {
   "cell_type": "code",
   "execution_count": 29,
   "id": "2cb04901",
   "metadata": {
    "execution": {
     "iopub.execute_input": "2024-05-27T18:04:44.394686Z",
     "iopub.status.busy": "2024-05-27T18:04:44.394343Z",
     "iopub.status.idle": "2024-05-27T18:04:44.405629Z",
     "shell.execute_reply": "2024-05-27T18:04:44.404735Z"
    },
    "papermill": {
     "duration": 0.065128,
     "end_time": "2024-05-27T18:04:44.407633",
     "exception": false,
     "start_time": "2024-05-27T18:04:44.342505",
     "status": "completed"
    },
    "tags": []
   },
   "outputs": [],
   "source": [
    "from sklearn.preprocessing import LabelEncoder\n",
    "\n",
    "# Sample dataset with string classes\n",
    "data = df_y\n",
    "# Initialize the LabelEncoder\n",
    "label_encoder = LabelEncoder()\n",
    "\n",
    "# Fit and transform the data to numerical labels\n",
    "numerical_labels = label_encoder.fit_transform(data)\n",
    "\n",
    "# print(\"Original data:\", data)\n",
    "# print(\"Numerical labels:\", numerical_labels)\n"
   ]
  },
  {
   "cell_type": "code",
   "execution_count": 30,
   "id": "2ef340e6",
   "metadata": {
    "execution": {
     "iopub.execute_input": "2024-05-27T18:04:44.506067Z",
     "iopub.status.busy": "2024-05-27T18:04:44.505811Z",
     "iopub.status.idle": "2024-05-27T18:04:44.511997Z",
     "shell.execute_reply": "2024-05-27T18:04:44.510980Z"
    },
    "papermill": {
     "duration": 0.057765,
     "end_time": "2024-05-27T18:04:44.513954",
     "exception": false,
     "start_time": "2024-05-27T18:04:44.456189",
     "status": "completed"
    },
    "tags": []
   },
   "outputs": [
    {
     "data": {
      "text/plain": [
       "array([0, 2, 0, ..., 2, 2, 4])"
      ]
     },
     "execution_count": 30,
     "metadata": {},
     "output_type": "execute_result"
    }
   ],
   "source": [
    "df_y = numerical_labels\n",
    "df_y"
   ]
  },
  {
   "cell_type": "code",
   "execution_count": 31,
   "id": "5ceda01c",
   "metadata": {
    "execution": {
     "iopub.execute_input": "2024-05-27T18:04:44.613497Z",
     "iopub.status.busy": "2024-05-27T18:04:44.613237Z",
     "iopub.status.idle": "2024-05-27T18:04:44.618926Z",
     "shell.execute_reply": "2024-05-27T18:04:44.618116Z"
    },
    "papermill": {
     "duration": 0.057755,
     "end_time": "2024-05-27T18:04:44.620685",
     "exception": false,
     "start_time": "2024-05-27T18:04:44.562930",
     "status": "completed"
    },
    "tags": []
   },
   "outputs": [
    {
     "data": {
      "text/plain": [
       "dtype('float64')"
      ]
     },
     "execution_count": 31,
     "metadata": {},
     "output_type": "execute_result"
    }
   ],
   "source": [
    "df_y = df_y.astype(np.float64)\n",
    "df_y.dtype"
   ]
  },
  {
   "cell_type": "code",
   "execution_count": 32,
   "id": "6506c5af",
   "metadata": {
    "execution": {
     "iopub.execute_input": "2024-05-27T18:04:44.719790Z",
     "iopub.status.busy": "2024-05-27T18:04:44.719456Z",
     "iopub.status.idle": "2024-05-27T18:04:44.725274Z",
     "shell.execute_reply": "2024-05-27T18:04:44.724361Z"
    },
    "papermill": {
     "duration": 0.057647,
     "end_time": "2024-05-27T18:04:44.727111",
     "exception": false,
     "start_time": "2024-05-27T18:04:44.669464",
     "status": "completed"
    },
    "tags": []
   },
   "outputs": [],
   "source": [
    "df_x = df_x.drop([\"LOCATION\"], axis = 1)"
   ]
  },
  {
   "cell_type": "code",
   "execution_count": 33,
   "id": "f3d35acf",
   "metadata": {
    "execution": {
     "iopub.execute_input": "2024-05-27T18:04:44.827797Z",
     "iopub.status.busy": "2024-05-27T18:04:44.826992Z",
     "iopub.status.idle": "2024-05-27T18:04:46.501242Z",
     "shell.execute_reply": "2024-05-27T18:04:46.500228Z"
    },
    "papermill": {
     "duration": 1.727461,
     "end_time": "2024-05-27T18:04:46.503565",
     "exception": false,
     "start_time": "2024-05-27T18:04:44.776104",
     "status": "completed"
    },
    "tags": []
   },
   "outputs": [
    {
     "name": "stdout",
     "output_type": "stream",
     "text": [
      "Accuracy: 0.9590807174887892\n"
     ]
    }
   ],
   "source": [
    "from sklearn.ensemble import RandomForestClassifier\n",
    "from sklearn.datasets import load_iris\n",
    "from sklearn.model_selection import train_test_split\n",
    "from sklearn.metrics import accuracy_score\n",
    "\n",
    "X = df_x\n",
    "y = df_y\n",
    "\n",
    "# Split the data into training and testing sets\n",
    "X_train, X_test, y_train, y_test = train_test_split(X, y, test_size=0.2, random_state=42)\n",
    "\n",
    "# Initialize Random Forest classifier\n",
    "rf_classifier = RandomForestClassifier(n_estimators=100, random_state=42)\n",
    "\n",
    "# Train the classifier\n",
    "rf_classifier.fit(X_train, y_train)\n",
    "\n",
    "# Make predictions\n",
    "predictions = rf_classifier.predict(X_test)\n",
    "\n",
    "# Calculate accuracy\n",
    "accuracy = accuracy_score(y_test, predictions)\n",
    "print(\"Accuracy:\", accuracy)\n"
   ]
  },
  {
   "cell_type": "code",
   "execution_count": 34,
   "id": "df234fe0",
   "metadata": {
    "execution": {
     "iopub.execute_input": "2024-05-27T18:04:46.606760Z",
     "iopub.status.busy": "2024-05-27T18:04:46.606425Z",
     "iopub.status.idle": "2024-05-27T18:04:46.625931Z",
     "shell.execute_reply": "2024-05-27T18:04:46.624996Z"
    },
    "papermill": {
     "duration": 0.07169,
     "end_time": "2024-05-27T18:04:46.627913",
     "exception": false,
     "start_time": "2024-05-27T18:04:46.556223",
     "status": "completed"
    },
    "tags": []
   },
   "outputs": [
    {
     "name": "stderr",
     "output_type": "stream",
     "text": [
      "/opt/conda/lib/python3.10/site-packages/sklearn/base.py:439: UserWarning: X does not have valid feature names, but RandomForestClassifier was fitted with feature names\n",
      "  warnings.warn(\n"
     ]
    },
    {
     "data": {
      "text/plain": [
       "array([0.])"
      ]
     },
     "execution_count": 34,
     "metadata": {},
     "output_type": "execute_result"
    }
   ],
   "source": [
    "inp = [11.545,92.74583,7.74,349,0,183,25,1,1,0,175,34,22,10,0,0.84,0]\n",
    "rf_classifier.predict([inp])"
   ]
  },
  {
   "cell_type": "code",
   "execution_count": 35,
   "id": "de23e0f9",
   "metadata": {
    "execution": {
     "iopub.execute_input": "2024-05-27T18:04:46.730770Z",
     "iopub.status.busy": "2024-05-27T18:04:46.730331Z",
     "iopub.status.idle": "2024-05-27T18:04:46.736466Z",
     "shell.execute_reply": "2024-05-27T18:04:46.735615Z"
    },
    "papermill": {
     "duration": 0.060675,
     "end_time": "2024-05-27T18:04:46.738702",
     "exception": false,
     "start_time": "2024-05-27T18:04:46.678027",
     "status": "completed"
    },
    "tags": []
   },
   "outputs": [
    {
     "data": {
      "text/plain": [
       "array([0., 2., 0., ..., 2., 2., 4.])"
      ]
     },
     "execution_count": 35,
     "metadata": {},
     "output_type": "execute_result"
    }
   ],
   "source": [
    "df_y"
   ]
  },
  {
   "cell_type": "code",
   "execution_count": 36,
   "id": "b375bd51",
   "metadata": {
    "execution": {
     "iopub.execute_input": "2024-05-27T18:04:46.843274Z",
     "iopub.status.busy": "2024-05-27T18:04:46.842983Z",
     "iopub.status.idle": "2024-05-27T18:04:46.864143Z",
     "shell.execute_reply": "2024-05-27T18:04:46.863404Z"
    },
    "papermill": {
     "duration": 0.075013,
     "end_time": "2024-05-27T18:04:46.866088",
     "exception": false,
     "start_time": "2024-05-27T18:04:46.791075",
     "status": "completed"
    },
    "tags": []
   },
   "outputs": [],
   "source": [
    "import pickle \n",
    "with open(\"rf_model.pkl\", \"wb\") as f:  # Replace \"rf_model.pkl\" with your desired filename\n",
    "    pickle.dump(rf_classifier, f)\n"
   ]
  },
  {
   "cell_type": "code",
   "execution_count": null,
   "id": "4eb47ec0",
   "metadata": {
    "papermill": {
     "duration": 0.049534,
     "end_time": "2024-05-27T18:04:46.964873",
     "exception": false,
     "start_time": "2024-05-27T18:04:46.915339",
     "status": "completed"
    },
    "tags": []
   },
   "outputs": [],
   "source": []
  },
  {
   "cell_type": "code",
   "execution_count": null,
   "id": "b9e0b163",
   "metadata": {
    "papermill": {
     "duration": 0.049229,
     "end_time": "2024-05-27T18:04:47.062871",
     "exception": false,
     "start_time": "2024-05-27T18:04:47.013642",
     "status": "completed"
    },
    "tags": []
   },
   "outputs": [],
   "source": []
  },
  {
   "cell_type": "code",
   "execution_count": null,
   "id": "04c63c98",
   "metadata": {
    "papermill": {
     "duration": 0.049153,
     "end_time": "2024-05-27T18:04:47.161679",
     "exception": false,
     "start_time": "2024-05-27T18:04:47.112526",
     "status": "completed"
    },
    "tags": []
   },
   "outputs": [],
   "source": []
  },
  {
   "cell_type": "code",
   "execution_count": null,
   "id": "7c0bd214",
   "metadata": {
    "papermill": {
     "duration": 0.049084,
     "end_time": "2024-05-27T18:04:47.260202",
     "exception": false,
     "start_time": "2024-05-27T18:04:47.211118",
     "status": "completed"
    },
    "tags": []
   },
   "outputs": [],
   "source": []
  }
 ],
 "metadata": {
  "kaggle": {
   "accelerator": "nvidiaTeslaT4",
   "dataSources": [
    {
     "datasetId": 4333628,
     "sourceId": 7445347,
     "sourceType": "datasetVersion"
    }
   ],
   "dockerImageVersionId": 30635,
   "isGpuEnabled": true,
   "isInternetEnabled": true,
   "language": "python",
   "sourceType": "notebook"
  },
  "kernelspec": {
   "display_name": "Python 3",
   "language": "python",
   "name": "python3"
  },
  "language_info": {
   "codemirror_mode": {
    "name": "ipython",
    "version": 3
   },
   "file_extension": ".py",
   "mimetype": "text/x-python",
   "name": "python",
   "nbconvert_exporter": "python",
   "pygments_lexer": "ipython3",
   "version": "3.10.12"
  },
  "papermill": {
   "default_parameters": {},
   "duration": 58.560599,
   "end_time": "2024-05-27T18:04:50.182971",
   "environment_variables": {},
   "exception": null,
   "input_path": "__notebook__.ipynb",
   "output_path": "__notebook__.ipynb",
   "parameters": {},
   "start_time": "2024-05-27T18:03:51.622372",
   "version": "2.4.0"
  }
 },
 "nbformat": 4,
 "nbformat_minor": 5
}
